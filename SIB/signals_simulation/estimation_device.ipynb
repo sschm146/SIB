{
 "cells": [
  {
   "cell_type": "code",
   "execution_count": 1,
   "metadata": {},
   "outputs": [],
   "source": [
    "import random\n",
    "import pandas as pd\n",
    "# the main function is in simulation_function.py\n",
    "from simulation_function import simulation"
   ]
  },
  {
   "cell_type": "code",
   "execution_count": 2,
   "metadata": {},
   "outputs": [
    {
     "name": "stdout",
     "output_type": "stream",
     "text": [
      "Number of rounds is the length of the list 'x_list': 10\n"
     ]
    }
   ],
   "source": [
    "#in \"x\" specify the means for the rounds: each mean correspond to a round\n",
    "x_list = [random.randint(20,10000) for i in range(10)] #true state\n",
    "#in n_estimates specify the number of estimates in each round\n",
    "#works with only 6 or 7!\n",
    "number_estimates = 7\n",
    "print(\"Number of rounds is the length of the list 'x_list': \" + str(len(x_list)))\n",
    "pd.set_option('display.max_rows', None)"
   ]
  },
  {
   "cell_type": "markdown",
   "metadata": {},
   "source": [
    "Conditions:\n",
    "1. Average of A, B, C (AvABC) should be higher or lower than average of D, E, and F (AvDEF) at least by 1 (preferably more). One should be larger than the other half of the times, and vice-versa.\n",
    "\n",
    "2. Signal for subject D should be at least 6 higher or lower (preferably more) from the average of signals E and F. It should be higher half of the time when AvABC>AvDEF, and half of the time when AvDEF>AvABC.\n",
    "2.1 The averages of D&E and D&F should never be a decimal number.\n",
    "\n",
    "3. Lowest signal of D, E, and F should be on average at least 6 lower (preferably a bit more, e.g., 7) than the second lowest signal across the 10 rounds.\n",
    "\n",
    "4. Signal of Sender 1 (Sender who gets 7th estimate and provides prior in Confirmation bias treatment) should be close to AvABC half of the time, and close to AvDEF about half of the time.\n",
    "\n",
    "4.1 If AvABC>AvDEF and signal of sender 1 is close to AvABC, then the signal is i) >AvABC,\n",
    "ii) exactly AvABC, or\n",
    "iii) marginally smaller than AvABC but then AvABC>>AvDEF (difference between AvABC and AvDEF should be much larger than 1 in that case).\n",
    "\n",
    "4.2 If AvABC<AvDEF, then the signal is\n",
    "i) <AvABC ,\n",
    "ii) exactly AvABC, or\n",
    "iii) marginally larger than AvABC but then AvDEF>>AvABC (difference between AvABC and AvDEF should be much larger than 1 in that case)."
   ]
  },
  {
   "cell_type": "code",
   "execution_count": 3,
   "metadata": {},
   "outputs": [
    {
     "name": "stdout",
     "output_type": "stream",
     "text": [
      "avDEF > avABC rounds counted: 1. When avDEF > avABC:\n",
      "avEF > D rounds counted: 1\n",
      "7th signal close avABC rounds counted: 1\n",
      "FINISHED ROUND NUMBER: 1\n",
      "avABC > avDEF rounds counted: 1. When avABC > avDEF:\n",
      "D > avEF rounds counted: 1\n",
      "7th signal close avDEF rounds counted: 1\n",
      "FINISHED ROUND NUMBER: 2\n",
      "avDEF > avABC rounds counted: 2. When avDEF > avABC:\n",
      "avEF > D rounds counted: 2\n",
      "7th signal close avDEF rounds counted: 1\n",
      "FINISHED ROUND NUMBER: 3\n",
      "avDEF > avABC rounds counted: 3. When avDEF > avABC:\n",
      "avEF > D rounds counted: 3\n",
      "7th signal close avDEF rounds counted: 2\n",
      "FINISHED ROUND NUMBER: 4\n",
      "avDEF > avABC rounds counted: 4. When avDEF > avABC:\n",
      "avEF > D rounds counted: 4\n",
      "7th signal close avABC rounds counted: 2\n",
      "FINISHED ROUND NUMBER: 5\n",
      "avDEF > avABC rounds counted: 5. When avDEF > avABC:\n",
      "avEF > D rounds counted: 5\n",
      "7th signal close avABC rounds counted: 3\n",
      "FINISHED ROUND NUMBER: 6\n",
      "avABC > avDEF rounds counted: 2. When avABC > avDEF:\n",
      "avEF > D rounds counted: 1\n",
      "7th signal close avABC rounds counted: 1\n",
      "FINISHED ROUND NUMBER: 7\n",
      "avABC > avDEF rounds counted: 3. When avABC > avDEF:\n",
      "avEF > D rounds counted: 2\n",
      "7th signal close avABC rounds counted: 2\n",
      "FINISHED ROUND NUMBER: 8\n",
      "avABC > avDEF rounds counted: 4. When avABC > avDEF:\n",
      "avEF > D rounds counted: 3\n",
      "7th signal close avDEF rounds counted: 2\n",
      "FINISHED ROUND NUMBER: 9\n",
      "avABC > avDEF rounds counted: 5. When avABC > avDEF:\n",
      "D > avEF rounds counted: 2\n",
      "7th signal close avABC rounds counted: 3\n",
      "FINISHED ROUND NUMBER: 10\n"
     ]
    }
   ],
   "source": [
    "#run the function\n",
    "# when running: the finished rounds are printed including some counters on the conditions requiring exact\n",
    "#share of realization\n",
    "df = simulation(x_list, number_estimates)\n",
    "file_name = 'Simulations.xlsx'\n",
    "df.to_excel(file_name)"
   ]
  },
  {
   "cell_type": "code",
   "execution_count": 4,
   "metadata": {},
   "outputs": [
    {
     "data": {
      "text/plain": "   round    sender  estimate    mean  avABC-avDEF  avEF-D    avDE    avDF  \\\n0    1.0         A    5036.0  5037.0    -4.666667    -9.0  5042.0  5043.0   \n1    1.0         B    5027.0  5037.0    -4.666667    -9.0  5042.0  5043.0   \n2    1.0         C    5046.0  5037.0    -4.666667    -9.0  5042.0  5043.0   \n3    1.0         D    5047.0  5037.0    -4.666667    -9.0  5042.0  5043.0   \n4    1.0         E    5037.0  5037.0    -4.666667    -9.0  5042.0  5043.0   \n5    1.0         F    5039.0  5037.0    -4.666667    -9.0  5042.0  5043.0   \n6    1.0  signal_7    5028.0  5037.0    -4.666667    -9.0  5042.0  5043.0   \n0    2.0         A    7991.0  7995.0    12.000000    -8.0  7990.0  7986.0   \n1    2.0         B    8006.0  7995.0    12.000000    -8.0  7990.0  7986.0   \n2    2.0         C    7999.0  7995.0    12.000000    -8.0  7990.0  7986.0   \n3    2.0         D    7992.0  7995.0    12.000000    -8.0  7990.0  7986.0   \n4    2.0         E    7988.0  7995.0    12.000000    -8.0  7990.0  7986.0   \n5    2.0         F    7980.0  7995.0    12.000000    -8.0  7990.0  7986.0   \n6    2.0  signal_7    7985.0  7995.0    12.000000    -8.0  7990.0  7986.0   \n0    3.0         A    5482.0  5495.0    -2.666667   -11.0  5493.0  5500.0   \n1    3.0         B    5494.0  5495.0    -2.666667   -11.0  5493.0  5500.0   \n2    3.0         C    5500.0  5495.0    -2.666667   -11.0  5493.0  5500.0   \n3    3.0         D    5502.0  5495.0    -2.666667   -11.0  5493.0  5500.0   \n4    3.0         E    5484.0  5495.0    -2.666667   -11.0  5493.0  5500.0   \n5    3.0         F    5498.0  5495.0    -2.666667   -11.0  5493.0  5500.0   \n6    3.0  signal_7    5504.0  5495.0    -2.666667   -11.0  5493.0  5500.0   \n0    4.0         A    7738.0  7728.0    -2.000000   -11.0  7735.0  7732.0   \n1    4.0         B    7734.0  7728.0    -2.000000   -11.0  7735.0  7732.0   \n2    4.0         C    7717.0  7728.0    -2.000000   -11.0  7735.0  7732.0   \n3    4.0         D    7739.0  7728.0    -2.000000   -11.0  7735.0  7732.0   \n4    4.0         E    7731.0  7728.0    -2.000000   -11.0  7735.0  7732.0   \n5    4.0         F    7725.0  7728.0    -2.000000   -11.0  7735.0  7732.0   \n6    4.0  signal_7    7732.0  7728.0    -2.000000   -11.0  7735.0  7732.0   \n0    5.0         A     599.0   597.0    -5.333333   -12.0   598.0   608.0   \n1    5.0         B     597.0   597.0    -5.333333   -12.0   598.0   608.0   \n2    5.0         C     591.0   597.0    -5.333333   -12.0   598.0   608.0   \n3    5.0         D     609.0   597.0    -5.333333   -12.0   598.0   608.0   \n4    5.0         E     587.0   597.0    -5.333333   -12.0   598.0   608.0   \n5    5.0         F     607.0   597.0    -5.333333   -12.0   598.0   608.0   \n6    5.0  signal_7     594.0   597.0    -5.333333   -12.0   598.0   608.0   \n0    6.0         A     454.0   464.0    -2.333333   -11.0   467.0   470.0   \n1    6.0         B     476.0   464.0    -2.333333   -11.0   467.0   470.0   \n2    6.0         C     463.0   464.0    -2.333333   -11.0   467.0   470.0   \n3    6.0         D     474.0   464.0    -2.333333   -11.0   467.0   470.0   \n4    6.0         E     460.0   464.0    -2.333333   -11.0   467.0   470.0   \n5    6.0         F     466.0   464.0    -2.333333   -11.0   467.0   470.0   \n6    6.0  signal_7     456.0   464.0    -2.333333   -11.0   467.0   470.0   \n0    7.0         A    7357.0  7346.0     5.666667    10.0  7340.0  7344.0   \n1    7.0         B    7341.0  7346.0     5.666667    10.0  7340.0  7344.0   \n2    7.0         C    7350.0  7346.0     5.666667    10.0  7340.0  7344.0   \n3    7.0         D    7337.0  7346.0     5.666667    10.0  7340.0  7344.0   \n4    7.0         E    7343.0  7346.0     5.666667    10.0  7340.0  7344.0   \n5    7.0         F    7351.0  7346.0     5.666667    10.0  7340.0  7344.0   \n6    7.0  signal_7    7349.0  7346.0     5.666667    10.0  7340.0  7344.0   \n0    8.0         A      79.0    71.0     6.333333     7.0    63.0    66.0   \n1    8.0         B      64.0    71.0     6.333333     7.0    63.0    66.0   \n2    8.0         C      73.0    71.0     6.333333     7.0    63.0    66.0   \n3    8.0         D      61.0    71.0     6.333333     7.0    63.0    66.0   \n4    8.0         E      65.0    71.0     6.333333     7.0    63.0    66.0   \n5    8.0         F      71.0    71.0     6.333333     7.0    63.0    66.0   \n6    8.0  signal_7      80.0    71.0     6.333333     7.0    63.0    66.0   \n0    9.0         A     529.0   522.0     9.333333     7.0   514.0   517.0   \n1    9.0         B     515.0   522.0     9.333333     7.0   514.0   517.0   \n2    9.0         C     534.0   522.0     9.333333     7.0   514.0   517.0   \n3    9.0         D     512.0   522.0     9.333333     7.0   514.0   517.0   \n4    9.0         E     516.0   522.0     9.333333     7.0   514.0   517.0   \n5    9.0         F     522.0   522.0     9.333333     7.0   514.0   517.0   \n6    9.0  signal_7     511.0   522.0     9.333333     7.0   514.0   517.0   \n0   10.0         A    1588.0  1586.0     4.666667   -11.0  1585.0  1588.0   \n1   10.0         B    1594.0  1586.0     4.666667   -11.0  1585.0  1588.0   \n2   10.0         C    1586.0  1586.0     4.666667   -11.0  1585.0  1588.0   \n3   10.0         D    1592.0  1586.0     4.666667   -11.0  1585.0  1588.0   \n4   10.0         E    1578.0  1586.0     4.666667   -11.0  1585.0  1588.0   \n5   10.0         F    1584.0  1586.0     4.666667   -11.0  1585.0  1588.0   \n6   10.0  signal_7    1597.0  1586.0     4.666667   -11.0  1585.0  1588.0   \n\n   2nd_lowest-lowest_DEF  \n0                    7.6  \n1                    7.6  \n2                    7.6  \n3                    7.6  \n4                    7.6  \n5                    7.6  \n6                    7.6  \n0                    7.6  \n1                    7.6  \n2                    7.6  \n3                    7.6  \n4                    7.6  \n5                    7.6  \n6                    7.6  \n0                    7.6  \n1                    7.6  \n2                    7.6  \n3                    7.6  \n4                    7.6  \n5                    7.6  \n6                    7.6  \n0                    7.6  \n1                    7.6  \n2                    7.6  \n3                    7.6  \n4                    7.6  \n5                    7.6  \n6                    7.6  \n0                    7.6  \n1                    7.6  \n2                    7.6  \n3                    7.6  \n4                    7.6  \n5                    7.6  \n6                    7.6  \n0                    7.6  \n1                    7.6  \n2                    7.6  \n3                    7.6  \n4                    7.6  \n5                    7.6  \n6                    7.6  \n0                    7.6  \n1                    7.6  \n2                    7.6  \n3                    7.6  \n4                    7.6  \n5                    7.6  \n6                    7.6  \n0                    7.6  \n1                    7.6  \n2                    7.6  \n3                    7.6  \n4                    7.6  \n5                    7.6  \n6                    7.6  \n0                    7.6  \n1                    7.6  \n2                    7.6  \n3                    7.6  \n4                    7.6  \n5                    7.6  \n6                    7.6  \n0                    7.6  \n1                    7.6  \n2                    7.6  \n3                    7.6  \n4                    7.6  \n5                    7.6  \n6                    7.6  ",
      "text/html": "<div>\n<style scoped>\n    .dataframe tbody tr th:only-of-type {\n        vertical-align: middle;\n    }\n\n    .dataframe tbody tr th {\n        vertical-align: top;\n    }\n\n    .dataframe thead th {\n        text-align: right;\n    }\n</style>\n<table border=\"1\" class=\"dataframe\">\n  <thead>\n    <tr style=\"text-align: right;\">\n      <th></th>\n      <th>round</th>\n      <th>sender</th>\n      <th>estimate</th>\n      <th>mean</th>\n      <th>avABC-avDEF</th>\n      <th>avEF-D</th>\n      <th>avDE</th>\n      <th>avDF</th>\n      <th>2nd_lowest-lowest_DEF</th>\n    </tr>\n  </thead>\n  <tbody>\n    <tr>\n      <th>0</th>\n      <td>1.0</td>\n      <td>A</td>\n      <td>5036.0</td>\n      <td>5037.0</td>\n      <td>-4.666667</td>\n      <td>-9.0</td>\n      <td>5042.0</td>\n      <td>5043.0</td>\n      <td>7.6</td>\n    </tr>\n    <tr>\n      <th>1</th>\n      <td>1.0</td>\n      <td>B</td>\n      <td>5027.0</td>\n      <td>5037.0</td>\n      <td>-4.666667</td>\n      <td>-9.0</td>\n      <td>5042.0</td>\n      <td>5043.0</td>\n      <td>7.6</td>\n    </tr>\n    <tr>\n      <th>2</th>\n      <td>1.0</td>\n      <td>C</td>\n      <td>5046.0</td>\n      <td>5037.0</td>\n      <td>-4.666667</td>\n      <td>-9.0</td>\n      <td>5042.0</td>\n      <td>5043.0</td>\n      <td>7.6</td>\n    </tr>\n    <tr>\n      <th>3</th>\n      <td>1.0</td>\n      <td>D</td>\n      <td>5047.0</td>\n      <td>5037.0</td>\n      <td>-4.666667</td>\n      <td>-9.0</td>\n      <td>5042.0</td>\n      <td>5043.0</td>\n      <td>7.6</td>\n    </tr>\n    <tr>\n      <th>4</th>\n      <td>1.0</td>\n      <td>E</td>\n      <td>5037.0</td>\n      <td>5037.0</td>\n      <td>-4.666667</td>\n      <td>-9.0</td>\n      <td>5042.0</td>\n      <td>5043.0</td>\n      <td>7.6</td>\n    </tr>\n    <tr>\n      <th>5</th>\n      <td>1.0</td>\n      <td>F</td>\n      <td>5039.0</td>\n      <td>5037.0</td>\n      <td>-4.666667</td>\n      <td>-9.0</td>\n      <td>5042.0</td>\n      <td>5043.0</td>\n      <td>7.6</td>\n    </tr>\n    <tr>\n      <th>6</th>\n      <td>1.0</td>\n      <td>signal_7</td>\n      <td>5028.0</td>\n      <td>5037.0</td>\n      <td>-4.666667</td>\n      <td>-9.0</td>\n      <td>5042.0</td>\n      <td>5043.0</td>\n      <td>7.6</td>\n    </tr>\n    <tr>\n      <th>0</th>\n      <td>2.0</td>\n      <td>A</td>\n      <td>7991.0</td>\n      <td>7995.0</td>\n      <td>12.000000</td>\n      <td>-8.0</td>\n      <td>7990.0</td>\n      <td>7986.0</td>\n      <td>7.6</td>\n    </tr>\n    <tr>\n      <th>1</th>\n      <td>2.0</td>\n      <td>B</td>\n      <td>8006.0</td>\n      <td>7995.0</td>\n      <td>12.000000</td>\n      <td>-8.0</td>\n      <td>7990.0</td>\n      <td>7986.0</td>\n      <td>7.6</td>\n    </tr>\n    <tr>\n      <th>2</th>\n      <td>2.0</td>\n      <td>C</td>\n      <td>7999.0</td>\n      <td>7995.0</td>\n      <td>12.000000</td>\n      <td>-8.0</td>\n      <td>7990.0</td>\n      <td>7986.0</td>\n      <td>7.6</td>\n    </tr>\n    <tr>\n      <th>3</th>\n      <td>2.0</td>\n      <td>D</td>\n      <td>7992.0</td>\n      <td>7995.0</td>\n      <td>12.000000</td>\n      <td>-8.0</td>\n      <td>7990.0</td>\n      <td>7986.0</td>\n      <td>7.6</td>\n    </tr>\n    <tr>\n      <th>4</th>\n      <td>2.0</td>\n      <td>E</td>\n      <td>7988.0</td>\n      <td>7995.0</td>\n      <td>12.000000</td>\n      <td>-8.0</td>\n      <td>7990.0</td>\n      <td>7986.0</td>\n      <td>7.6</td>\n    </tr>\n    <tr>\n      <th>5</th>\n      <td>2.0</td>\n      <td>F</td>\n      <td>7980.0</td>\n      <td>7995.0</td>\n      <td>12.000000</td>\n      <td>-8.0</td>\n      <td>7990.0</td>\n      <td>7986.0</td>\n      <td>7.6</td>\n    </tr>\n    <tr>\n      <th>6</th>\n      <td>2.0</td>\n      <td>signal_7</td>\n      <td>7985.0</td>\n      <td>7995.0</td>\n      <td>12.000000</td>\n      <td>-8.0</td>\n      <td>7990.0</td>\n      <td>7986.0</td>\n      <td>7.6</td>\n    </tr>\n    <tr>\n      <th>0</th>\n      <td>3.0</td>\n      <td>A</td>\n      <td>5482.0</td>\n      <td>5495.0</td>\n      <td>-2.666667</td>\n      <td>-11.0</td>\n      <td>5493.0</td>\n      <td>5500.0</td>\n      <td>7.6</td>\n    </tr>\n    <tr>\n      <th>1</th>\n      <td>3.0</td>\n      <td>B</td>\n      <td>5494.0</td>\n      <td>5495.0</td>\n      <td>-2.666667</td>\n      <td>-11.0</td>\n      <td>5493.0</td>\n      <td>5500.0</td>\n      <td>7.6</td>\n    </tr>\n    <tr>\n      <th>2</th>\n      <td>3.0</td>\n      <td>C</td>\n      <td>5500.0</td>\n      <td>5495.0</td>\n      <td>-2.666667</td>\n      <td>-11.0</td>\n      <td>5493.0</td>\n      <td>5500.0</td>\n      <td>7.6</td>\n    </tr>\n    <tr>\n      <th>3</th>\n      <td>3.0</td>\n      <td>D</td>\n      <td>5502.0</td>\n      <td>5495.0</td>\n      <td>-2.666667</td>\n      <td>-11.0</td>\n      <td>5493.0</td>\n      <td>5500.0</td>\n      <td>7.6</td>\n    </tr>\n    <tr>\n      <th>4</th>\n      <td>3.0</td>\n      <td>E</td>\n      <td>5484.0</td>\n      <td>5495.0</td>\n      <td>-2.666667</td>\n      <td>-11.0</td>\n      <td>5493.0</td>\n      <td>5500.0</td>\n      <td>7.6</td>\n    </tr>\n    <tr>\n      <th>5</th>\n      <td>3.0</td>\n      <td>F</td>\n      <td>5498.0</td>\n      <td>5495.0</td>\n      <td>-2.666667</td>\n      <td>-11.0</td>\n      <td>5493.0</td>\n      <td>5500.0</td>\n      <td>7.6</td>\n    </tr>\n    <tr>\n      <th>6</th>\n      <td>3.0</td>\n      <td>signal_7</td>\n      <td>5504.0</td>\n      <td>5495.0</td>\n      <td>-2.666667</td>\n      <td>-11.0</td>\n      <td>5493.0</td>\n      <td>5500.0</td>\n      <td>7.6</td>\n    </tr>\n    <tr>\n      <th>0</th>\n      <td>4.0</td>\n      <td>A</td>\n      <td>7738.0</td>\n      <td>7728.0</td>\n      <td>-2.000000</td>\n      <td>-11.0</td>\n      <td>7735.0</td>\n      <td>7732.0</td>\n      <td>7.6</td>\n    </tr>\n    <tr>\n      <th>1</th>\n      <td>4.0</td>\n      <td>B</td>\n      <td>7734.0</td>\n      <td>7728.0</td>\n      <td>-2.000000</td>\n      <td>-11.0</td>\n      <td>7735.0</td>\n      <td>7732.0</td>\n      <td>7.6</td>\n    </tr>\n    <tr>\n      <th>2</th>\n      <td>4.0</td>\n      <td>C</td>\n      <td>7717.0</td>\n      <td>7728.0</td>\n      <td>-2.000000</td>\n      <td>-11.0</td>\n      <td>7735.0</td>\n      <td>7732.0</td>\n      <td>7.6</td>\n    </tr>\n    <tr>\n      <th>3</th>\n      <td>4.0</td>\n      <td>D</td>\n      <td>7739.0</td>\n      <td>7728.0</td>\n      <td>-2.000000</td>\n      <td>-11.0</td>\n      <td>7735.0</td>\n      <td>7732.0</td>\n      <td>7.6</td>\n    </tr>\n    <tr>\n      <th>4</th>\n      <td>4.0</td>\n      <td>E</td>\n      <td>7731.0</td>\n      <td>7728.0</td>\n      <td>-2.000000</td>\n      <td>-11.0</td>\n      <td>7735.0</td>\n      <td>7732.0</td>\n      <td>7.6</td>\n    </tr>\n    <tr>\n      <th>5</th>\n      <td>4.0</td>\n      <td>F</td>\n      <td>7725.0</td>\n      <td>7728.0</td>\n      <td>-2.000000</td>\n      <td>-11.0</td>\n      <td>7735.0</td>\n      <td>7732.0</td>\n      <td>7.6</td>\n    </tr>\n    <tr>\n      <th>6</th>\n      <td>4.0</td>\n      <td>signal_7</td>\n      <td>7732.0</td>\n      <td>7728.0</td>\n      <td>-2.000000</td>\n      <td>-11.0</td>\n      <td>7735.0</td>\n      <td>7732.0</td>\n      <td>7.6</td>\n    </tr>\n    <tr>\n      <th>0</th>\n      <td>5.0</td>\n      <td>A</td>\n      <td>599.0</td>\n      <td>597.0</td>\n      <td>-5.333333</td>\n      <td>-12.0</td>\n      <td>598.0</td>\n      <td>608.0</td>\n      <td>7.6</td>\n    </tr>\n    <tr>\n      <th>1</th>\n      <td>5.0</td>\n      <td>B</td>\n      <td>597.0</td>\n      <td>597.0</td>\n      <td>-5.333333</td>\n      <td>-12.0</td>\n      <td>598.0</td>\n      <td>608.0</td>\n      <td>7.6</td>\n    </tr>\n    <tr>\n      <th>2</th>\n      <td>5.0</td>\n      <td>C</td>\n      <td>591.0</td>\n      <td>597.0</td>\n      <td>-5.333333</td>\n      <td>-12.0</td>\n      <td>598.0</td>\n      <td>608.0</td>\n      <td>7.6</td>\n    </tr>\n    <tr>\n      <th>3</th>\n      <td>5.0</td>\n      <td>D</td>\n      <td>609.0</td>\n      <td>597.0</td>\n      <td>-5.333333</td>\n      <td>-12.0</td>\n      <td>598.0</td>\n      <td>608.0</td>\n      <td>7.6</td>\n    </tr>\n    <tr>\n      <th>4</th>\n      <td>5.0</td>\n      <td>E</td>\n      <td>587.0</td>\n      <td>597.0</td>\n      <td>-5.333333</td>\n      <td>-12.0</td>\n      <td>598.0</td>\n      <td>608.0</td>\n      <td>7.6</td>\n    </tr>\n    <tr>\n      <th>5</th>\n      <td>5.0</td>\n      <td>F</td>\n      <td>607.0</td>\n      <td>597.0</td>\n      <td>-5.333333</td>\n      <td>-12.0</td>\n      <td>598.0</td>\n      <td>608.0</td>\n      <td>7.6</td>\n    </tr>\n    <tr>\n      <th>6</th>\n      <td>5.0</td>\n      <td>signal_7</td>\n      <td>594.0</td>\n      <td>597.0</td>\n      <td>-5.333333</td>\n      <td>-12.0</td>\n      <td>598.0</td>\n      <td>608.0</td>\n      <td>7.6</td>\n    </tr>\n    <tr>\n      <th>0</th>\n      <td>6.0</td>\n      <td>A</td>\n      <td>454.0</td>\n      <td>464.0</td>\n      <td>-2.333333</td>\n      <td>-11.0</td>\n      <td>467.0</td>\n      <td>470.0</td>\n      <td>7.6</td>\n    </tr>\n    <tr>\n      <th>1</th>\n      <td>6.0</td>\n      <td>B</td>\n      <td>476.0</td>\n      <td>464.0</td>\n      <td>-2.333333</td>\n      <td>-11.0</td>\n      <td>467.0</td>\n      <td>470.0</td>\n      <td>7.6</td>\n    </tr>\n    <tr>\n      <th>2</th>\n      <td>6.0</td>\n      <td>C</td>\n      <td>463.0</td>\n      <td>464.0</td>\n      <td>-2.333333</td>\n      <td>-11.0</td>\n      <td>467.0</td>\n      <td>470.0</td>\n      <td>7.6</td>\n    </tr>\n    <tr>\n      <th>3</th>\n      <td>6.0</td>\n      <td>D</td>\n      <td>474.0</td>\n      <td>464.0</td>\n      <td>-2.333333</td>\n      <td>-11.0</td>\n      <td>467.0</td>\n      <td>470.0</td>\n      <td>7.6</td>\n    </tr>\n    <tr>\n      <th>4</th>\n      <td>6.0</td>\n      <td>E</td>\n      <td>460.0</td>\n      <td>464.0</td>\n      <td>-2.333333</td>\n      <td>-11.0</td>\n      <td>467.0</td>\n      <td>470.0</td>\n      <td>7.6</td>\n    </tr>\n    <tr>\n      <th>5</th>\n      <td>6.0</td>\n      <td>F</td>\n      <td>466.0</td>\n      <td>464.0</td>\n      <td>-2.333333</td>\n      <td>-11.0</td>\n      <td>467.0</td>\n      <td>470.0</td>\n      <td>7.6</td>\n    </tr>\n    <tr>\n      <th>6</th>\n      <td>6.0</td>\n      <td>signal_7</td>\n      <td>456.0</td>\n      <td>464.0</td>\n      <td>-2.333333</td>\n      <td>-11.0</td>\n      <td>467.0</td>\n      <td>470.0</td>\n      <td>7.6</td>\n    </tr>\n    <tr>\n      <th>0</th>\n      <td>7.0</td>\n      <td>A</td>\n      <td>7357.0</td>\n      <td>7346.0</td>\n      <td>5.666667</td>\n      <td>10.0</td>\n      <td>7340.0</td>\n      <td>7344.0</td>\n      <td>7.6</td>\n    </tr>\n    <tr>\n      <th>1</th>\n      <td>7.0</td>\n      <td>B</td>\n      <td>7341.0</td>\n      <td>7346.0</td>\n      <td>5.666667</td>\n      <td>10.0</td>\n      <td>7340.0</td>\n      <td>7344.0</td>\n      <td>7.6</td>\n    </tr>\n    <tr>\n      <th>2</th>\n      <td>7.0</td>\n      <td>C</td>\n      <td>7350.0</td>\n      <td>7346.0</td>\n      <td>5.666667</td>\n      <td>10.0</td>\n      <td>7340.0</td>\n      <td>7344.0</td>\n      <td>7.6</td>\n    </tr>\n    <tr>\n      <th>3</th>\n      <td>7.0</td>\n      <td>D</td>\n      <td>7337.0</td>\n      <td>7346.0</td>\n      <td>5.666667</td>\n      <td>10.0</td>\n      <td>7340.0</td>\n      <td>7344.0</td>\n      <td>7.6</td>\n    </tr>\n    <tr>\n      <th>4</th>\n      <td>7.0</td>\n      <td>E</td>\n      <td>7343.0</td>\n      <td>7346.0</td>\n      <td>5.666667</td>\n      <td>10.0</td>\n      <td>7340.0</td>\n      <td>7344.0</td>\n      <td>7.6</td>\n    </tr>\n    <tr>\n      <th>5</th>\n      <td>7.0</td>\n      <td>F</td>\n      <td>7351.0</td>\n      <td>7346.0</td>\n      <td>5.666667</td>\n      <td>10.0</td>\n      <td>7340.0</td>\n      <td>7344.0</td>\n      <td>7.6</td>\n    </tr>\n    <tr>\n      <th>6</th>\n      <td>7.0</td>\n      <td>signal_7</td>\n      <td>7349.0</td>\n      <td>7346.0</td>\n      <td>5.666667</td>\n      <td>10.0</td>\n      <td>7340.0</td>\n      <td>7344.0</td>\n      <td>7.6</td>\n    </tr>\n    <tr>\n      <th>0</th>\n      <td>8.0</td>\n      <td>A</td>\n      <td>79.0</td>\n      <td>71.0</td>\n      <td>6.333333</td>\n      <td>7.0</td>\n      <td>63.0</td>\n      <td>66.0</td>\n      <td>7.6</td>\n    </tr>\n    <tr>\n      <th>1</th>\n      <td>8.0</td>\n      <td>B</td>\n      <td>64.0</td>\n      <td>71.0</td>\n      <td>6.333333</td>\n      <td>7.0</td>\n      <td>63.0</td>\n      <td>66.0</td>\n      <td>7.6</td>\n    </tr>\n    <tr>\n      <th>2</th>\n      <td>8.0</td>\n      <td>C</td>\n      <td>73.0</td>\n      <td>71.0</td>\n      <td>6.333333</td>\n      <td>7.0</td>\n      <td>63.0</td>\n      <td>66.0</td>\n      <td>7.6</td>\n    </tr>\n    <tr>\n      <th>3</th>\n      <td>8.0</td>\n      <td>D</td>\n      <td>61.0</td>\n      <td>71.0</td>\n      <td>6.333333</td>\n      <td>7.0</td>\n      <td>63.0</td>\n      <td>66.0</td>\n      <td>7.6</td>\n    </tr>\n    <tr>\n      <th>4</th>\n      <td>8.0</td>\n      <td>E</td>\n      <td>65.0</td>\n      <td>71.0</td>\n      <td>6.333333</td>\n      <td>7.0</td>\n      <td>63.0</td>\n      <td>66.0</td>\n      <td>7.6</td>\n    </tr>\n    <tr>\n      <th>5</th>\n      <td>8.0</td>\n      <td>F</td>\n      <td>71.0</td>\n      <td>71.0</td>\n      <td>6.333333</td>\n      <td>7.0</td>\n      <td>63.0</td>\n      <td>66.0</td>\n      <td>7.6</td>\n    </tr>\n    <tr>\n      <th>6</th>\n      <td>8.0</td>\n      <td>signal_7</td>\n      <td>80.0</td>\n      <td>71.0</td>\n      <td>6.333333</td>\n      <td>7.0</td>\n      <td>63.0</td>\n      <td>66.0</td>\n      <td>7.6</td>\n    </tr>\n    <tr>\n      <th>0</th>\n      <td>9.0</td>\n      <td>A</td>\n      <td>529.0</td>\n      <td>522.0</td>\n      <td>9.333333</td>\n      <td>7.0</td>\n      <td>514.0</td>\n      <td>517.0</td>\n      <td>7.6</td>\n    </tr>\n    <tr>\n      <th>1</th>\n      <td>9.0</td>\n      <td>B</td>\n      <td>515.0</td>\n      <td>522.0</td>\n      <td>9.333333</td>\n      <td>7.0</td>\n      <td>514.0</td>\n      <td>517.0</td>\n      <td>7.6</td>\n    </tr>\n    <tr>\n      <th>2</th>\n      <td>9.0</td>\n      <td>C</td>\n      <td>534.0</td>\n      <td>522.0</td>\n      <td>9.333333</td>\n      <td>7.0</td>\n      <td>514.0</td>\n      <td>517.0</td>\n      <td>7.6</td>\n    </tr>\n    <tr>\n      <th>3</th>\n      <td>9.0</td>\n      <td>D</td>\n      <td>512.0</td>\n      <td>522.0</td>\n      <td>9.333333</td>\n      <td>7.0</td>\n      <td>514.0</td>\n      <td>517.0</td>\n      <td>7.6</td>\n    </tr>\n    <tr>\n      <th>4</th>\n      <td>9.0</td>\n      <td>E</td>\n      <td>516.0</td>\n      <td>522.0</td>\n      <td>9.333333</td>\n      <td>7.0</td>\n      <td>514.0</td>\n      <td>517.0</td>\n      <td>7.6</td>\n    </tr>\n    <tr>\n      <th>5</th>\n      <td>9.0</td>\n      <td>F</td>\n      <td>522.0</td>\n      <td>522.0</td>\n      <td>9.333333</td>\n      <td>7.0</td>\n      <td>514.0</td>\n      <td>517.0</td>\n      <td>7.6</td>\n    </tr>\n    <tr>\n      <th>6</th>\n      <td>9.0</td>\n      <td>signal_7</td>\n      <td>511.0</td>\n      <td>522.0</td>\n      <td>9.333333</td>\n      <td>7.0</td>\n      <td>514.0</td>\n      <td>517.0</td>\n      <td>7.6</td>\n    </tr>\n    <tr>\n      <th>0</th>\n      <td>10.0</td>\n      <td>A</td>\n      <td>1588.0</td>\n      <td>1586.0</td>\n      <td>4.666667</td>\n      <td>-11.0</td>\n      <td>1585.0</td>\n      <td>1588.0</td>\n      <td>7.6</td>\n    </tr>\n    <tr>\n      <th>1</th>\n      <td>10.0</td>\n      <td>B</td>\n      <td>1594.0</td>\n      <td>1586.0</td>\n      <td>4.666667</td>\n      <td>-11.0</td>\n      <td>1585.0</td>\n      <td>1588.0</td>\n      <td>7.6</td>\n    </tr>\n    <tr>\n      <th>2</th>\n      <td>10.0</td>\n      <td>C</td>\n      <td>1586.0</td>\n      <td>1586.0</td>\n      <td>4.666667</td>\n      <td>-11.0</td>\n      <td>1585.0</td>\n      <td>1588.0</td>\n      <td>7.6</td>\n    </tr>\n    <tr>\n      <th>3</th>\n      <td>10.0</td>\n      <td>D</td>\n      <td>1592.0</td>\n      <td>1586.0</td>\n      <td>4.666667</td>\n      <td>-11.0</td>\n      <td>1585.0</td>\n      <td>1588.0</td>\n      <td>7.6</td>\n    </tr>\n    <tr>\n      <th>4</th>\n      <td>10.0</td>\n      <td>E</td>\n      <td>1578.0</td>\n      <td>1586.0</td>\n      <td>4.666667</td>\n      <td>-11.0</td>\n      <td>1585.0</td>\n      <td>1588.0</td>\n      <td>7.6</td>\n    </tr>\n    <tr>\n      <th>5</th>\n      <td>10.0</td>\n      <td>F</td>\n      <td>1584.0</td>\n      <td>1586.0</td>\n      <td>4.666667</td>\n      <td>-11.0</td>\n      <td>1585.0</td>\n      <td>1588.0</td>\n      <td>7.6</td>\n    </tr>\n    <tr>\n      <th>6</th>\n      <td>10.0</td>\n      <td>signal_7</td>\n      <td>1597.0</td>\n      <td>1586.0</td>\n      <td>4.666667</td>\n      <td>-11.0</td>\n      <td>1585.0</td>\n      <td>1588.0</td>\n      <td>7.6</td>\n    </tr>\n  </tbody>\n</table>\n</div>"
     },
     "execution_count": 4,
     "metadata": {},
     "output_type": "execute_result"
    }
   ],
   "source": [
    "df\n"
   ]
  },
  {
   "cell_type": "markdown",
   "metadata": {
    "pycharm": {
     "name": "#%% md\n"
    }
   },
   "source": [
    "The rounds are defines by *mean*.\n",
    "\n",
    "Some of the conditions can be verified by the columns in the table.\n",
    " - Condition 1: *avABC-avDEF* - difference between the averages for one data generation round;\n",
    "    (Also check output above: \"avDEF > avABC rounds counted: ... \"); Condition met iff output says \"... : 5\"\n",
    " - Condition 2.1: *avEF-D* - difference between the average and the signal for one data generation round;\n",
    "    Condition met iff all values for *|avEF-D| > 6* and output says \"... : 2/3\"\n",
    " - Condition 2.2: *avDE* and *avDF* are integers\n",
    " - Condition 3: *2nd_lowest-lowest_DEF* should be bigger than 6\n",
    " - Condition 4: (Only applies for CB) Check output \"7th signal close avDEF/avABC rounds counted: ...\" Both should add up to 5"
   ]
  }
 ],
 "metadata": {
  "interpreter": {
   "hash": "beb3376e9ec78c85c8b47e0673459935c366a85a00dd683d2b2c8473fb6af68b"
  },
  "kernelspec": {
   "display_name": "Python 3.7.4 ('base')",
   "language": "python",
   "name": "python3"
  },
  "language_info": {
   "codemirror_mode": {
    "name": "ipython",
    "version": 3
   },
   "file_extension": ".py",
   "mimetype": "text/x-python",
   "name": "python",
   "nbconvert_exporter": "python",
   "pygments_lexer": "ipython3",
   "version": "3.7.4"
  },
  "orig_nbformat": 4
 },
 "nbformat": 4,
 "nbformat_minor": 2
}