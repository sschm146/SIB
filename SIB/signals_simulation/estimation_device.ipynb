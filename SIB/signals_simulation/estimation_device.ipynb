{
 "cells": [
  {
   "cell_type": "code",
   "execution_count": 12,
   "metadata": {},
   "outputs": [],
   "source": [
    "import random\n",
    "import pandas as pd\n",
    "# the main function is in simulation_function.py\n",
    "from simulation_function import simulation"
   ]
  },
  {
   "cell_type": "code",
   "execution_count": 13,
   "metadata": {},
   "outputs": [
    {
     "name": "stdout",
     "output_type": "stream",
     "text": [
      "Number of rounds is the length of the list 'x_list': 10\n"
     ]
    }
   ],
   "source": [
    "#in \"x\" specify the means for the rounds: each mean correspond to a round\n",
    "x_list = [random.randint(20,10000) for i in range(10)] #true state\n",
    "#in n_estimates specify the number of estimates in each round\n",
    "#works with only 6 or 7!\n",
    "number_estimates = 7\n",
    "print(\"Number of rounds is the length of the list 'x_list': \" + str(len(x_list)))\n",
    "pd.set_option('display.max_rows', None)"
   ]
  },
  {
   "cell_type": "markdown",
   "metadata": {},
   "source": [
    "Conditions:\n",
    "1. Average of A, B, C (AvABC) should be higher or lower than average of D, E, and F (AvDEF) at least by 1 (preferably more). One should be larger than the other half of the times, and vice-versa.\n",
    "\n",
    "2. Signal for subject D should be at least 6 higher or lower (preferably more) from the average of signals E and F. It should be higher half of the time when AvABC>AvDEF, and half of the time when AvDEF>AvABC.\n",
    "2.1 The averages of D&E and D&F should never be a decimal number.\n",
    "\n",
    "3. Lowest signal of D, E, and F should be on average at least 6 lower (preferably a bit more, e.g., 7) than the second lowest signal across the 10 rounds.\n",
    "\n",
    "4. Signal of Sender 1 (Sender who gets 7th estimate and provides prior in Confirmation bias treatment) should be close to AvABC half of the time, and close to AvDEF about half of the time.\n",
    "\n",
    "4.1 If AvABC>AvDEF and signal of sender 1 is close to AvABC, then the signal is i) >AvABC,\n",
    "ii) exactly AvABC, or\n",
    "iii) marginally smaller than AvABC but then AvABC>>AvDEF (difference between AvABC and AvDEF should be much larger than 1 in that case).\n",
    "\n",
    "4.2 If AvABC<AvDEF, then the signal is\n",
    "i) <AvABC ,\n",
    "ii) exactly AvABC, or\n",
    "iii) marginally larger than AvABC but then AvDEF>>AvABC (difference between AvABC and AvDEF should be much larger than 1 in that case)."
   ]
  },
  {
   "cell_type": "code",
   "execution_count": 14,
   "metadata": {},
   "outputs": [
    {
     "name": "stdout",
     "output_type": "stream",
     "text": [
      "avABC > avDEF rounds counted: 1. When avABC > avDEF:\n",
      "avEF > D rounds counted: 1\n",
      "7th signal close avDEF rounds counted: 1\n",
      "FINISHED ROUND NUMBER: 1\n",
      "avDEF > avABC rounds counted: 1. When avDEF > avABC:\n",
      "D > avEF rounds counted: 1\n",
      "7th signal close avABC rounds counted: 1\n",
      "FINISHED ROUND NUMBER: 2\n",
      "avABC > avDEF rounds counted: 2. When avABC > avDEF:\n",
      "D > avEF rounds counted: 1\n",
      "7th signal close avABC rounds counted: 1\n",
      "FINISHED ROUND NUMBER: 3\n",
      "avABC > avDEF rounds counted: 3. When avABC > avDEF:\n",
      "avEF > D rounds counted: 2\n",
      "7th signal close avDEF rounds counted: 2\n",
      "FINISHED ROUND NUMBER: 4\n",
      "avABC > avDEF rounds counted: 4. When avABC > avDEF:\n",
      "D > avEF rounds counted: 2\n",
      "7th signal close avDEF rounds counted: 3\n",
      "FINISHED ROUND NUMBER: 5\n",
      "avDEF > avABC rounds counted: 2. When avDEF > avABC:\n",
      "D > avEF rounds counted: 2\n",
      "7th signal close avDEF rounds counted: 1\n",
      "FINISHED ROUND NUMBER: 6\n",
      "avABC > avDEF rounds counted: 5. When avABC > avDEF:\n",
      "D > avEF rounds counted: 3\n",
      "7th signal close avABC rounds counted: 2\n",
      "FINISHED ROUND NUMBER: 7\n",
      "avDEF > avABC rounds counted: 3. When avDEF > avABC:\n",
      "D > avEF rounds counted: 3\n",
      "7th signal close avDEF rounds counted: 2\n",
      "FINISHED ROUND NUMBER: 8\n",
      "avDEF > avABC rounds counted: 4. When avDEF > avABC:\n",
      "D > avEF rounds counted: 4\n",
      "7th signal close avABC rounds counted: 2\n",
      "FINISHED ROUND NUMBER: 9\n",
      "avDEF > avABC rounds counted: 5. When avDEF > avABC:\n",
      "D > avEF rounds counted: 5\n",
      "7th signal close avDEF rounds counted: 3\n",
      "FINISHED ROUND NUMBER: 10\n"
     ]
    }
   ],
   "source": [
    "#run the function\n",
    "# when running: the finished rounds are printed including some counters on the conditions requiring exact\n",
    "#share of realization\n",
    "df = simulation(x_list, number_estimates)\n",
    "file_name = 'Simulations.xlsx'\n",
    "df.to_excel(file_name)"
   ]
  },
  {
   "cell_type": "code",
   "execution_count": 15,
   "metadata": {},
   "outputs": [
    {
     "data": {
      "text/plain": "   round    sender  estimate    mean  avABC-avDEF  avEF-D    avDE    avDF  \\\n0    1.0         A    4447.0  4457.0     4.333333     8.0  4451.0  4455.0   \n1    1.0         B    4460.0  4457.0     4.333333     8.0  4451.0  4455.0   \n2    1.0         C    4469.0  4457.0     4.333333     8.0  4451.0  4455.0   \n3    1.0         D    4449.0  4457.0     4.333333     8.0  4451.0  4455.0   \n4    1.0         E    4453.0  4457.0     4.333333     8.0  4451.0  4455.0   \n5    1.0         F    4461.0  4457.0     4.333333     8.0  4451.0  4455.0   \n6    1.0  signal_7    4452.0  4457.0     4.333333     8.0  4451.0  4455.0   \n0    2.0         A    4275.0  4278.0    -4.666667     7.0  4282.0  4279.0   \n1    2.0         B    4285.0  4278.0    -4.666667     7.0  4282.0  4279.0   \n2    2.0         C    4271.0  4278.0    -4.666667     7.0  4282.0  4279.0   \n3    2.0         D    4277.0  4278.0    -4.666667     7.0  4282.0  4279.0   \n4    2.0         E    4287.0  4278.0    -4.666667     7.0  4282.0  4279.0   \n5    2.0         F    4281.0  4278.0    -4.666667     7.0  4282.0  4279.0   \n6    2.0  signal_7    4269.0  4278.0    -4.666667     7.0  4282.0  4279.0   \n0    3.0         A    5983.0  5976.0     1.666667   -20.0  5976.0  5978.0   \n1    3.0         B    5975.0  5976.0     1.666667   -20.0  5976.0  5978.0   \n2    3.0         C    5968.0  5976.0     1.666667   -20.0  5976.0  5978.0   \n3    3.0         D    5987.0  5976.0     1.666667   -20.0  5976.0  5978.0   \n4    3.0         E    5965.0  5976.0     1.666667   -20.0  5976.0  5978.0   \n5    3.0         F    5969.0  5976.0     1.666667   -20.0  5976.0  5978.0   \n6    3.0  signal_7    5986.0  5976.0     1.666667   -20.0  5976.0  5978.0   \n0    4.0         A    2744.0  2737.0     1.666667    11.0  2733.0  2738.0   \n1    4.0         B    2735.0  2737.0     1.666667    11.0  2733.0  2738.0   \n2    4.0         C    2738.0  2737.0     1.666667    11.0  2733.0  2738.0   \n3    4.0         D    2730.0  2737.0     1.666667    11.0  2733.0  2738.0   \n4    4.0         E    2736.0  2737.0     1.666667    11.0  2733.0  2738.0   \n5    4.0         F    2746.0  2737.0     1.666667    11.0  2733.0  2738.0   \n6    4.0  signal_7    2732.0  2737.0     1.666667    11.0  2733.0  2738.0   \n0    5.0         A    1818.0  1808.0     2.333333   -10.0  1812.0  1818.0   \n1    5.0         B    1817.0  1808.0     2.333333   -10.0  1812.0  1818.0   \n2    5.0         C    1812.0  1808.0     2.333333   -10.0  1812.0  1818.0   \n3    5.0         D    1820.0  1808.0     2.333333   -10.0  1812.0  1818.0   \n4    5.0         E    1804.0  1808.0     2.333333   -10.0  1812.0  1818.0   \n5    5.0         F    1816.0  1808.0     2.333333   -10.0  1812.0  1818.0   \n6    5.0  signal_7    1814.0  1808.0     2.333333   -10.0  1812.0  1818.0   \n0    6.0         A     787.0   793.0    -5.000000    14.0   792.0   790.0   \n1    6.0         B     790.0   793.0    -5.000000    14.0   792.0   790.0   \n2    6.0         C     788.0   793.0    -5.000000    14.0   792.0   790.0   \n3    6.0         D     784.0   793.0    -5.000000    14.0   792.0   790.0   \n4    6.0         E     800.0   793.0    -5.000000    14.0   792.0   790.0   \n5    6.0         F     796.0   793.0    -5.000000    14.0   792.0   790.0   \n6    6.0  signal_7     797.0   793.0    -5.000000    14.0   792.0   790.0   \n0    7.0         A    8017.0  8027.0     2.000000   -11.0  8029.0  8030.0   \n1    7.0         B    8033.0  8027.0     2.000000   -11.0  8029.0  8030.0   \n2    7.0         C    8039.0  8027.0     2.000000   -11.0  8029.0  8030.0   \n3    7.0         D    8035.0  8027.0     2.000000   -11.0  8029.0  8030.0   \n4    7.0         E    8023.0  8027.0     2.000000   -11.0  8029.0  8030.0   \n5    7.0         F    8025.0  8027.0     2.000000   -11.0  8029.0  8030.0   \n6    7.0  signal_7    8037.0  8027.0     2.000000   -11.0  8029.0  8030.0   \n0    8.0         A    7155.0  7146.0    -2.000000    12.0  7145.0  7141.0   \n1    8.0         B    7136.0  7146.0    -2.000000    12.0  7145.0  7141.0   \n2    8.0         C    7138.0  7146.0    -2.000000    12.0  7145.0  7141.0   \n3    8.0         D    7137.0  7146.0    -2.000000    12.0  7145.0  7141.0   \n4    8.0         E    7153.0  7146.0    -2.000000    12.0  7145.0  7141.0   \n5    8.0         F    7145.0  7146.0    -2.000000    12.0  7145.0  7141.0   \n6    8.0  signal_7    7154.0  7146.0    -2.000000    12.0  7145.0  7141.0   \n0    9.0         A    1837.0  1844.0    -6.000000    14.0  1846.0  1844.0   \n1    9.0         B    1835.0  1844.0    -6.000000    14.0  1846.0  1844.0   \n2    9.0         C    1852.0  1844.0    -6.000000    14.0  1846.0  1844.0   \n3    9.0         D    1838.0  1844.0    -6.000000    14.0  1846.0  1844.0   \n4    9.0         E    1854.0  1844.0    -6.000000    14.0  1846.0  1844.0   \n5    9.0         F    1850.0  1844.0    -6.000000    14.0  1846.0  1844.0   \n6    9.0  signal_7    1834.0  1844.0    -6.000000    14.0  1846.0  1844.0   \n0   10.0         A    8118.0  8129.0   -10.333333     7.0  8131.0  8134.0   \n1   10.0         B    8125.0  8129.0   -10.333333     7.0  8131.0  8134.0   \n2   10.0         C    8127.0  8129.0   -10.333333     7.0  8131.0  8134.0   \n3   10.0         D    8129.0  8129.0   -10.333333     7.0  8131.0  8134.0   \n4   10.0         E    8133.0  8129.0   -10.333333     7.0  8131.0  8134.0   \n5   10.0         F    8139.0  8129.0   -10.333333     7.0  8131.0  8134.0   \n6   10.0  signal_7    8138.0  8129.0   -10.333333     7.0  8131.0  8134.0   \n\n   2nd_lowest-lowest_DEF  \n0                    6.8  \n1                    6.8  \n2                    6.8  \n3                    6.8  \n4                    6.8  \n5                    6.8  \n6                    6.8  \n0                    6.8  \n1                    6.8  \n2                    6.8  \n3                    6.8  \n4                    6.8  \n5                    6.8  \n6                    6.8  \n0                    6.8  \n1                    6.8  \n2                    6.8  \n3                    6.8  \n4                    6.8  \n5                    6.8  \n6                    6.8  \n0                    6.8  \n1                    6.8  \n2                    6.8  \n3                    6.8  \n4                    6.8  \n5                    6.8  \n6                    6.8  \n0                    6.8  \n1                    6.8  \n2                    6.8  \n3                    6.8  \n4                    6.8  \n5                    6.8  \n6                    6.8  \n0                    6.8  \n1                    6.8  \n2                    6.8  \n3                    6.8  \n4                    6.8  \n5                    6.8  \n6                    6.8  \n0                    6.8  \n1                    6.8  \n2                    6.8  \n3                    6.8  \n4                    6.8  \n5                    6.8  \n6                    6.8  \n0                    6.8  \n1                    6.8  \n2                    6.8  \n3                    6.8  \n4                    6.8  \n5                    6.8  \n6                    6.8  \n0                    6.8  \n1                    6.8  \n2                    6.8  \n3                    6.8  \n4                    6.8  \n5                    6.8  \n6                    6.8  \n0                    6.8  \n1                    6.8  \n2                    6.8  \n3                    6.8  \n4                    6.8  \n5                    6.8  \n6                    6.8  ",
      "text/html": "<div>\n<style scoped>\n    .dataframe tbody tr th:only-of-type {\n        vertical-align: middle;\n    }\n\n    .dataframe tbody tr th {\n        vertical-align: top;\n    }\n\n    .dataframe thead th {\n        text-align: right;\n    }\n</style>\n<table border=\"1\" class=\"dataframe\">\n  <thead>\n    <tr style=\"text-align: right;\">\n      <th></th>\n      <th>round</th>\n      <th>sender</th>\n      <th>estimate</th>\n      <th>mean</th>\n      <th>avABC-avDEF</th>\n      <th>avEF-D</th>\n      <th>avDE</th>\n      <th>avDF</th>\n      <th>2nd_lowest-lowest_DEF</th>\n    </tr>\n  </thead>\n  <tbody>\n    <tr>\n      <th>0</th>\n      <td>1.0</td>\n      <td>A</td>\n      <td>4447.0</td>\n      <td>4457.0</td>\n      <td>4.333333</td>\n      <td>8.0</td>\n      <td>4451.0</td>\n      <td>4455.0</td>\n      <td>6.8</td>\n    </tr>\n    <tr>\n      <th>1</th>\n      <td>1.0</td>\n      <td>B</td>\n      <td>4460.0</td>\n      <td>4457.0</td>\n      <td>4.333333</td>\n      <td>8.0</td>\n      <td>4451.0</td>\n      <td>4455.0</td>\n      <td>6.8</td>\n    </tr>\n    <tr>\n      <th>2</th>\n      <td>1.0</td>\n      <td>C</td>\n      <td>4469.0</td>\n      <td>4457.0</td>\n      <td>4.333333</td>\n      <td>8.0</td>\n      <td>4451.0</td>\n      <td>4455.0</td>\n      <td>6.8</td>\n    </tr>\n    <tr>\n      <th>3</th>\n      <td>1.0</td>\n      <td>D</td>\n      <td>4449.0</td>\n      <td>4457.0</td>\n      <td>4.333333</td>\n      <td>8.0</td>\n      <td>4451.0</td>\n      <td>4455.0</td>\n      <td>6.8</td>\n    </tr>\n    <tr>\n      <th>4</th>\n      <td>1.0</td>\n      <td>E</td>\n      <td>4453.0</td>\n      <td>4457.0</td>\n      <td>4.333333</td>\n      <td>8.0</td>\n      <td>4451.0</td>\n      <td>4455.0</td>\n      <td>6.8</td>\n    </tr>\n    <tr>\n      <th>5</th>\n      <td>1.0</td>\n      <td>F</td>\n      <td>4461.0</td>\n      <td>4457.0</td>\n      <td>4.333333</td>\n      <td>8.0</td>\n      <td>4451.0</td>\n      <td>4455.0</td>\n      <td>6.8</td>\n    </tr>\n    <tr>\n      <th>6</th>\n      <td>1.0</td>\n      <td>signal_7</td>\n      <td>4452.0</td>\n      <td>4457.0</td>\n      <td>4.333333</td>\n      <td>8.0</td>\n      <td>4451.0</td>\n      <td>4455.0</td>\n      <td>6.8</td>\n    </tr>\n    <tr>\n      <th>0</th>\n      <td>2.0</td>\n      <td>A</td>\n      <td>4275.0</td>\n      <td>4278.0</td>\n      <td>-4.666667</td>\n      <td>7.0</td>\n      <td>4282.0</td>\n      <td>4279.0</td>\n      <td>6.8</td>\n    </tr>\n    <tr>\n      <th>1</th>\n      <td>2.0</td>\n      <td>B</td>\n      <td>4285.0</td>\n      <td>4278.0</td>\n      <td>-4.666667</td>\n      <td>7.0</td>\n      <td>4282.0</td>\n      <td>4279.0</td>\n      <td>6.8</td>\n    </tr>\n    <tr>\n      <th>2</th>\n      <td>2.0</td>\n      <td>C</td>\n      <td>4271.0</td>\n      <td>4278.0</td>\n      <td>-4.666667</td>\n      <td>7.0</td>\n      <td>4282.0</td>\n      <td>4279.0</td>\n      <td>6.8</td>\n    </tr>\n    <tr>\n      <th>3</th>\n      <td>2.0</td>\n      <td>D</td>\n      <td>4277.0</td>\n      <td>4278.0</td>\n      <td>-4.666667</td>\n      <td>7.0</td>\n      <td>4282.0</td>\n      <td>4279.0</td>\n      <td>6.8</td>\n    </tr>\n    <tr>\n      <th>4</th>\n      <td>2.0</td>\n      <td>E</td>\n      <td>4287.0</td>\n      <td>4278.0</td>\n      <td>-4.666667</td>\n      <td>7.0</td>\n      <td>4282.0</td>\n      <td>4279.0</td>\n      <td>6.8</td>\n    </tr>\n    <tr>\n      <th>5</th>\n      <td>2.0</td>\n      <td>F</td>\n      <td>4281.0</td>\n      <td>4278.0</td>\n      <td>-4.666667</td>\n      <td>7.0</td>\n      <td>4282.0</td>\n      <td>4279.0</td>\n      <td>6.8</td>\n    </tr>\n    <tr>\n      <th>6</th>\n      <td>2.0</td>\n      <td>signal_7</td>\n      <td>4269.0</td>\n      <td>4278.0</td>\n      <td>-4.666667</td>\n      <td>7.0</td>\n      <td>4282.0</td>\n      <td>4279.0</td>\n      <td>6.8</td>\n    </tr>\n    <tr>\n      <th>0</th>\n      <td>3.0</td>\n      <td>A</td>\n      <td>5983.0</td>\n      <td>5976.0</td>\n      <td>1.666667</td>\n      <td>-20.0</td>\n      <td>5976.0</td>\n      <td>5978.0</td>\n      <td>6.8</td>\n    </tr>\n    <tr>\n      <th>1</th>\n      <td>3.0</td>\n      <td>B</td>\n      <td>5975.0</td>\n      <td>5976.0</td>\n      <td>1.666667</td>\n      <td>-20.0</td>\n      <td>5976.0</td>\n      <td>5978.0</td>\n      <td>6.8</td>\n    </tr>\n    <tr>\n      <th>2</th>\n      <td>3.0</td>\n      <td>C</td>\n      <td>5968.0</td>\n      <td>5976.0</td>\n      <td>1.666667</td>\n      <td>-20.0</td>\n      <td>5976.0</td>\n      <td>5978.0</td>\n      <td>6.8</td>\n    </tr>\n    <tr>\n      <th>3</th>\n      <td>3.0</td>\n      <td>D</td>\n      <td>5987.0</td>\n      <td>5976.0</td>\n      <td>1.666667</td>\n      <td>-20.0</td>\n      <td>5976.0</td>\n      <td>5978.0</td>\n      <td>6.8</td>\n    </tr>\n    <tr>\n      <th>4</th>\n      <td>3.0</td>\n      <td>E</td>\n      <td>5965.0</td>\n      <td>5976.0</td>\n      <td>1.666667</td>\n      <td>-20.0</td>\n      <td>5976.0</td>\n      <td>5978.0</td>\n      <td>6.8</td>\n    </tr>\n    <tr>\n      <th>5</th>\n      <td>3.0</td>\n      <td>F</td>\n      <td>5969.0</td>\n      <td>5976.0</td>\n      <td>1.666667</td>\n      <td>-20.0</td>\n      <td>5976.0</td>\n      <td>5978.0</td>\n      <td>6.8</td>\n    </tr>\n    <tr>\n      <th>6</th>\n      <td>3.0</td>\n      <td>signal_7</td>\n      <td>5986.0</td>\n      <td>5976.0</td>\n      <td>1.666667</td>\n      <td>-20.0</td>\n      <td>5976.0</td>\n      <td>5978.0</td>\n      <td>6.8</td>\n    </tr>\n    <tr>\n      <th>0</th>\n      <td>4.0</td>\n      <td>A</td>\n      <td>2744.0</td>\n      <td>2737.0</td>\n      <td>1.666667</td>\n      <td>11.0</td>\n      <td>2733.0</td>\n      <td>2738.0</td>\n      <td>6.8</td>\n    </tr>\n    <tr>\n      <th>1</th>\n      <td>4.0</td>\n      <td>B</td>\n      <td>2735.0</td>\n      <td>2737.0</td>\n      <td>1.666667</td>\n      <td>11.0</td>\n      <td>2733.0</td>\n      <td>2738.0</td>\n      <td>6.8</td>\n    </tr>\n    <tr>\n      <th>2</th>\n      <td>4.0</td>\n      <td>C</td>\n      <td>2738.0</td>\n      <td>2737.0</td>\n      <td>1.666667</td>\n      <td>11.0</td>\n      <td>2733.0</td>\n      <td>2738.0</td>\n      <td>6.8</td>\n    </tr>\n    <tr>\n      <th>3</th>\n      <td>4.0</td>\n      <td>D</td>\n      <td>2730.0</td>\n      <td>2737.0</td>\n      <td>1.666667</td>\n      <td>11.0</td>\n      <td>2733.0</td>\n      <td>2738.0</td>\n      <td>6.8</td>\n    </tr>\n    <tr>\n      <th>4</th>\n      <td>4.0</td>\n      <td>E</td>\n      <td>2736.0</td>\n      <td>2737.0</td>\n      <td>1.666667</td>\n      <td>11.0</td>\n      <td>2733.0</td>\n      <td>2738.0</td>\n      <td>6.8</td>\n    </tr>\n    <tr>\n      <th>5</th>\n      <td>4.0</td>\n      <td>F</td>\n      <td>2746.0</td>\n      <td>2737.0</td>\n      <td>1.666667</td>\n      <td>11.0</td>\n      <td>2733.0</td>\n      <td>2738.0</td>\n      <td>6.8</td>\n    </tr>\n    <tr>\n      <th>6</th>\n      <td>4.0</td>\n      <td>signal_7</td>\n      <td>2732.0</td>\n      <td>2737.0</td>\n      <td>1.666667</td>\n      <td>11.0</td>\n      <td>2733.0</td>\n      <td>2738.0</td>\n      <td>6.8</td>\n    </tr>\n    <tr>\n      <th>0</th>\n      <td>5.0</td>\n      <td>A</td>\n      <td>1818.0</td>\n      <td>1808.0</td>\n      <td>2.333333</td>\n      <td>-10.0</td>\n      <td>1812.0</td>\n      <td>1818.0</td>\n      <td>6.8</td>\n    </tr>\n    <tr>\n      <th>1</th>\n      <td>5.0</td>\n      <td>B</td>\n      <td>1817.0</td>\n      <td>1808.0</td>\n      <td>2.333333</td>\n      <td>-10.0</td>\n      <td>1812.0</td>\n      <td>1818.0</td>\n      <td>6.8</td>\n    </tr>\n    <tr>\n      <th>2</th>\n      <td>5.0</td>\n      <td>C</td>\n      <td>1812.0</td>\n      <td>1808.0</td>\n      <td>2.333333</td>\n      <td>-10.0</td>\n      <td>1812.0</td>\n      <td>1818.0</td>\n      <td>6.8</td>\n    </tr>\n    <tr>\n      <th>3</th>\n      <td>5.0</td>\n      <td>D</td>\n      <td>1820.0</td>\n      <td>1808.0</td>\n      <td>2.333333</td>\n      <td>-10.0</td>\n      <td>1812.0</td>\n      <td>1818.0</td>\n      <td>6.8</td>\n    </tr>\n    <tr>\n      <th>4</th>\n      <td>5.0</td>\n      <td>E</td>\n      <td>1804.0</td>\n      <td>1808.0</td>\n      <td>2.333333</td>\n      <td>-10.0</td>\n      <td>1812.0</td>\n      <td>1818.0</td>\n      <td>6.8</td>\n    </tr>\n    <tr>\n      <th>5</th>\n      <td>5.0</td>\n      <td>F</td>\n      <td>1816.0</td>\n      <td>1808.0</td>\n      <td>2.333333</td>\n      <td>-10.0</td>\n      <td>1812.0</td>\n      <td>1818.0</td>\n      <td>6.8</td>\n    </tr>\n    <tr>\n      <th>6</th>\n      <td>5.0</td>\n      <td>signal_7</td>\n      <td>1814.0</td>\n      <td>1808.0</td>\n      <td>2.333333</td>\n      <td>-10.0</td>\n      <td>1812.0</td>\n      <td>1818.0</td>\n      <td>6.8</td>\n    </tr>\n    <tr>\n      <th>0</th>\n      <td>6.0</td>\n      <td>A</td>\n      <td>787.0</td>\n      <td>793.0</td>\n      <td>-5.000000</td>\n      <td>14.0</td>\n      <td>792.0</td>\n      <td>790.0</td>\n      <td>6.8</td>\n    </tr>\n    <tr>\n      <th>1</th>\n      <td>6.0</td>\n      <td>B</td>\n      <td>790.0</td>\n      <td>793.0</td>\n      <td>-5.000000</td>\n      <td>14.0</td>\n      <td>792.0</td>\n      <td>790.0</td>\n      <td>6.8</td>\n    </tr>\n    <tr>\n      <th>2</th>\n      <td>6.0</td>\n      <td>C</td>\n      <td>788.0</td>\n      <td>793.0</td>\n      <td>-5.000000</td>\n      <td>14.0</td>\n      <td>792.0</td>\n      <td>790.0</td>\n      <td>6.8</td>\n    </tr>\n    <tr>\n      <th>3</th>\n      <td>6.0</td>\n      <td>D</td>\n      <td>784.0</td>\n      <td>793.0</td>\n      <td>-5.000000</td>\n      <td>14.0</td>\n      <td>792.0</td>\n      <td>790.0</td>\n      <td>6.8</td>\n    </tr>\n    <tr>\n      <th>4</th>\n      <td>6.0</td>\n      <td>E</td>\n      <td>800.0</td>\n      <td>793.0</td>\n      <td>-5.000000</td>\n      <td>14.0</td>\n      <td>792.0</td>\n      <td>790.0</td>\n      <td>6.8</td>\n    </tr>\n    <tr>\n      <th>5</th>\n      <td>6.0</td>\n      <td>F</td>\n      <td>796.0</td>\n      <td>793.0</td>\n      <td>-5.000000</td>\n      <td>14.0</td>\n      <td>792.0</td>\n      <td>790.0</td>\n      <td>6.8</td>\n    </tr>\n    <tr>\n      <th>6</th>\n      <td>6.0</td>\n      <td>signal_7</td>\n      <td>797.0</td>\n      <td>793.0</td>\n      <td>-5.000000</td>\n      <td>14.0</td>\n      <td>792.0</td>\n      <td>790.0</td>\n      <td>6.8</td>\n    </tr>\n    <tr>\n      <th>0</th>\n      <td>7.0</td>\n      <td>A</td>\n      <td>8017.0</td>\n      <td>8027.0</td>\n      <td>2.000000</td>\n      <td>-11.0</td>\n      <td>8029.0</td>\n      <td>8030.0</td>\n      <td>6.8</td>\n    </tr>\n    <tr>\n      <th>1</th>\n      <td>7.0</td>\n      <td>B</td>\n      <td>8033.0</td>\n      <td>8027.0</td>\n      <td>2.000000</td>\n      <td>-11.0</td>\n      <td>8029.0</td>\n      <td>8030.0</td>\n      <td>6.8</td>\n    </tr>\n    <tr>\n      <th>2</th>\n      <td>7.0</td>\n      <td>C</td>\n      <td>8039.0</td>\n      <td>8027.0</td>\n      <td>2.000000</td>\n      <td>-11.0</td>\n      <td>8029.0</td>\n      <td>8030.0</td>\n      <td>6.8</td>\n    </tr>\n    <tr>\n      <th>3</th>\n      <td>7.0</td>\n      <td>D</td>\n      <td>8035.0</td>\n      <td>8027.0</td>\n      <td>2.000000</td>\n      <td>-11.0</td>\n      <td>8029.0</td>\n      <td>8030.0</td>\n      <td>6.8</td>\n    </tr>\n    <tr>\n      <th>4</th>\n      <td>7.0</td>\n      <td>E</td>\n      <td>8023.0</td>\n      <td>8027.0</td>\n      <td>2.000000</td>\n      <td>-11.0</td>\n      <td>8029.0</td>\n      <td>8030.0</td>\n      <td>6.8</td>\n    </tr>\n    <tr>\n      <th>5</th>\n      <td>7.0</td>\n      <td>F</td>\n      <td>8025.0</td>\n      <td>8027.0</td>\n      <td>2.000000</td>\n      <td>-11.0</td>\n      <td>8029.0</td>\n      <td>8030.0</td>\n      <td>6.8</td>\n    </tr>\n    <tr>\n      <th>6</th>\n      <td>7.0</td>\n      <td>signal_7</td>\n      <td>8037.0</td>\n      <td>8027.0</td>\n      <td>2.000000</td>\n      <td>-11.0</td>\n      <td>8029.0</td>\n      <td>8030.0</td>\n      <td>6.8</td>\n    </tr>\n    <tr>\n      <th>0</th>\n      <td>8.0</td>\n      <td>A</td>\n      <td>7155.0</td>\n      <td>7146.0</td>\n      <td>-2.000000</td>\n      <td>12.0</td>\n      <td>7145.0</td>\n      <td>7141.0</td>\n      <td>6.8</td>\n    </tr>\n    <tr>\n      <th>1</th>\n      <td>8.0</td>\n      <td>B</td>\n      <td>7136.0</td>\n      <td>7146.0</td>\n      <td>-2.000000</td>\n      <td>12.0</td>\n      <td>7145.0</td>\n      <td>7141.0</td>\n      <td>6.8</td>\n    </tr>\n    <tr>\n      <th>2</th>\n      <td>8.0</td>\n      <td>C</td>\n      <td>7138.0</td>\n      <td>7146.0</td>\n      <td>-2.000000</td>\n      <td>12.0</td>\n      <td>7145.0</td>\n      <td>7141.0</td>\n      <td>6.8</td>\n    </tr>\n    <tr>\n      <th>3</th>\n      <td>8.0</td>\n      <td>D</td>\n      <td>7137.0</td>\n      <td>7146.0</td>\n      <td>-2.000000</td>\n      <td>12.0</td>\n      <td>7145.0</td>\n      <td>7141.0</td>\n      <td>6.8</td>\n    </tr>\n    <tr>\n      <th>4</th>\n      <td>8.0</td>\n      <td>E</td>\n      <td>7153.0</td>\n      <td>7146.0</td>\n      <td>-2.000000</td>\n      <td>12.0</td>\n      <td>7145.0</td>\n      <td>7141.0</td>\n      <td>6.8</td>\n    </tr>\n    <tr>\n      <th>5</th>\n      <td>8.0</td>\n      <td>F</td>\n      <td>7145.0</td>\n      <td>7146.0</td>\n      <td>-2.000000</td>\n      <td>12.0</td>\n      <td>7145.0</td>\n      <td>7141.0</td>\n      <td>6.8</td>\n    </tr>\n    <tr>\n      <th>6</th>\n      <td>8.0</td>\n      <td>signal_7</td>\n      <td>7154.0</td>\n      <td>7146.0</td>\n      <td>-2.000000</td>\n      <td>12.0</td>\n      <td>7145.0</td>\n      <td>7141.0</td>\n      <td>6.8</td>\n    </tr>\n    <tr>\n      <th>0</th>\n      <td>9.0</td>\n      <td>A</td>\n      <td>1837.0</td>\n      <td>1844.0</td>\n      <td>-6.000000</td>\n      <td>14.0</td>\n      <td>1846.0</td>\n      <td>1844.0</td>\n      <td>6.8</td>\n    </tr>\n    <tr>\n      <th>1</th>\n      <td>9.0</td>\n      <td>B</td>\n      <td>1835.0</td>\n      <td>1844.0</td>\n      <td>-6.000000</td>\n      <td>14.0</td>\n      <td>1846.0</td>\n      <td>1844.0</td>\n      <td>6.8</td>\n    </tr>\n    <tr>\n      <th>2</th>\n      <td>9.0</td>\n      <td>C</td>\n      <td>1852.0</td>\n      <td>1844.0</td>\n      <td>-6.000000</td>\n      <td>14.0</td>\n      <td>1846.0</td>\n      <td>1844.0</td>\n      <td>6.8</td>\n    </tr>\n    <tr>\n      <th>3</th>\n      <td>9.0</td>\n      <td>D</td>\n      <td>1838.0</td>\n      <td>1844.0</td>\n      <td>-6.000000</td>\n      <td>14.0</td>\n      <td>1846.0</td>\n      <td>1844.0</td>\n      <td>6.8</td>\n    </tr>\n    <tr>\n      <th>4</th>\n      <td>9.0</td>\n      <td>E</td>\n      <td>1854.0</td>\n      <td>1844.0</td>\n      <td>-6.000000</td>\n      <td>14.0</td>\n      <td>1846.0</td>\n      <td>1844.0</td>\n      <td>6.8</td>\n    </tr>\n    <tr>\n      <th>5</th>\n      <td>9.0</td>\n      <td>F</td>\n      <td>1850.0</td>\n      <td>1844.0</td>\n      <td>-6.000000</td>\n      <td>14.0</td>\n      <td>1846.0</td>\n      <td>1844.0</td>\n      <td>6.8</td>\n    </tr>\n    <tr>\n      <th>6</th>\n      <td>9.0</td>\n      <td>signal_7</td>\n      <td>1834.0</td>\n      <td>1844.0</td>\n      <td>-6.000000</td>\n      <td>14.0</td>\n      <td>1846.0</td>\n      <td>1844.0</td>\n      <td>6.8</td>\n    </tr>\n    <tr>\n      <th>0</th>\n      <td>10.0</td>\n      <td>A</td>\n      <td>8118.0</td>\n      <td>8129.0</td>\n      <td>-10.333333</td>\n      <td>7.0</td>\n      <td>8131.0</td>\n      <td>8134.0</td>\n      <td>6.8</td>\n    </tr>\n    <tr>\n      <th>1</th>\n      <td>10.0</td>\n      <td>B</td>\n      <td>8125.0</td>\n      <td>8129.0</td>\n      <td>-10.333333</td>\n      <td>7.0</td>\n      <td>8131.0</td>\n      <td>8134.0</td>\n      <td>6.8</td>\n    </tr>\n    <tr>\n      <th>2</th>\n      <td>10.0</td>\n      <td>C</td>\n      <td>8127.0</td>\n      <td>8129.0</td>\n      <td>-10.333333</td>\n      <td>7.0</td>\n      <td>8131.0</td>\n      <td>8134.0</td>\n      <td>6.8</td>\n    </tr>\n    <tr>\n      <th>3</th>\n      <td>10.0</td>\n      <td>D</td>\n      <td>8129.0</td>\n      <td>8129.0</td>\n      <td>-10.333333</td>\n      <td>7.0</td>\n      <td>8131.0</td>\n      <td>8134.0</td>\n      <td>6.8</td>\n    </tr>\n    <tr>\n      <th>4</th>\n      <td>10.0</td>\n      <td>E</td>\n      <td>8133.0</td>\n      <td>8129.0</td>\n      <td>-10.333333</td>\n      <td>7.0</td>\n      <td>8131.0</td>\n      <td>8134.0</td>\n      <td>6.8</td>\n    </tr>\n    <tr>\n      <th>5</th>\n      <td>10.0</td>\n      <td>F</td>\n      <td>8139.0</td>\n      <td>8129.0</td>\n      <td>-10.333333</td>\n      <td>7.0</td>\n      <td>8131.0</td>\n      <td>8134.0</td>\n      <td>6.8</td>\n    </tr>\n    <tr>\n      <th>6</th>\n      <td>10.0</td>\n      <td>signal_7</td>\n      <td>8138.0</td>\n      <td>8129.0</td>\n      <td>-10.333333</td>\n      <td>7.0</td>\n      <td>8131.0</td>\n      <td>8134.0</td>\n      <td>6.8</td>\n    </tr>\n  </tbody>\n</table>\n</div>"
     },
     "execution_count": 15,
     "metadata": {},
     "output_type": "execute_result"
    }
   ],
   "source": [
    "df\n"
   ]
  },
  {
   "cell_type": "markdown",
   "metadata": {
    "pycharm": {
     "name": "#%% md\n"
    }
   },
   "source": [
    "The rounds are defines by *mean*.\n",
    "\n",
    "Some of the conditions can be verified by the columns in the table.\n",
    " - Condition 1: *avABC-avDEF* - difference between the averages for one data generation round;\n",
    "    (Also check output above: \"avDEF > avABC rounds counted: ... \"); Condition met iff output says \"... : 5\"\n",
    " - Condition 2.1: *avEF-D* - difference between the average and the signal for one data generation round;\n",
    "    Condition met iff all values for *|avEF-D| > 6* and output says \"... : 2/3\"\n",
    " - Condition 2.2: *avDE* and *avDF* are integers\n",
    " - Condition 3: *2nd_lowest-lowest_DEF* should be bigger than 6\n",
    " - Condition 4: (Only applies for CB) Check output \"7th signal close avDEF/avABC rounds counted: ...\" Both should add up to 5"
   ]
  }
 ],
 "metadata": {
  "interpreter": {
   "hash": "beb3376e9ec78c85c8b47e0673459935c366a85a00dd683d2b2c8473fb6af68b"
  },
  "kernelspec": {
   "display_name": "Python 3.7.4 ('base')",
   "language": "python",
   "name": "python3"
  },
  "language_info": {
   "codemirror_mode": {
    "name": "ipython",
    "version": 3
   },
   "file_extension": ".py",
   "mimetype": "text/x-python",
   "name": "python",
   "nbconvert_exporter": "python",
   "pygments_lexer": "ipython3",
   "version": "3.7.4"
  },
  "orig_nbformat": 4
 },
 "nbformat": 4,
 "nbformat_minor": 2
}