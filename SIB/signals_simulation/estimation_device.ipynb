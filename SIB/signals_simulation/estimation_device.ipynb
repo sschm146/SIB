{
 "cells": [
  {
   "cell_type": "code",
   "execution_count": 8,
   "metadata": {
    "pycharm": {
     "name": "#%%\n"
    }
   },
   "outputs": [],
   "source": [
    "import random\n",
    "import pandas as pd\n",
    "# the main function is in simulation_function.py\n",
    "from simulation_function import simulation"
   ]
  },
  {
   "cell_type": "code",
   "execution_count": 9,
   "metadata": {
    "pycharm": {
     "name": "#%%\n"
    }
   },
   "outputs": [
    {
     "name": "stdout",
     "output_type": "stream",
     "text": [
      "Number of rounds is the length of the list 'x_list': 10\n"
     ]
    }
   ],
   "source": [
    "#in \"x\" specify the means for the rounds: each mean correspond to a round\n",
    "#EDIT STEFAN: Bounded distribution between 100 and 900 (SD of 33 will lead to positive true values between 0 and 1000)\n",
    "x_list = [random.randint(100,900) for i in range(10)] #true state\n",
    "#in n_estimates specify the number of estimates in each round\n",
    "#works with only 6 or 7!\n",
    "number_estimates = 7\n",
    "print(\"Number of rounds is the length of the list 'x_list': \" + str(len(x_list)))\n",
    "pd.set_option('display.max_rows', None)"
   ]
  },
  {
   "cell_type": "markdown",
   "metadata": {
    "pycharm": {
     "name": "#%% md\n"
    }
   },
   "source": [
    "Conditions:\n",
    "1. Average of A, B, C (AvABC) should be higher or lower than average of D, E, and F (AvDEF) at least by 1 (preferably more). One should be larger than the other half of the times, and vice-versa.\n",
    "\n",
    "2. Signal for subject D should be at least 6 higher or lower (preferably more) from the average of signals E and F. It should be higher half of the time when AvABC>AvDEF, and half of the time when AvDEF>AvABC.\n",
    "2.1 The averages of D&E and D&F should never be a decimal number.\n",
    "\n",
    "3. Second lowest signal of D, E, and F should be on average at least 3 lower (preferably a bit more) than the highest signal across the 10 rounds. NOTE: This condition was additionally changed after the first version of the code was written.\n",
    "\n",
    "4. Signal of Sender 1 (Sender who gets 7th estimate and provides prior in Confirmation bias treatment) should be close to AvABC half of the time, and close to AvDEF about half of the time.\n",
    "\n",
    "4.1 If AvABC>AvDEF and signal of sender 1 is close to AvABC, then the signal is i) >AvABC,\n",
    "ii) exactly AvABC, or\n",
    "iii) marginally smaller than AvABC but then AvABC>>AvDEF (difference between AvABC and AvDEF should be much larger than 1 in that case).\n",
    "\n",
    "4.2 If AvABC<AvDEF, then the signal is\n",
    "i) <AvABC ,\n",
    "ii) exactly AvABC, or\n",
    "iii) marginally larger than AvABC but then AvDEF>>AvABC (difference between AvABC and AvDEF should be much larger than 1 in that case)."
   ]
  },
  {
   "cell_type": "code",
   "execution_count": 10,
   "metadata": {
    "pycharm": {
     "name": "#%%\n"
    }
   },
   "outputs": [
    {
     "name": "stdout",
     "output_type": "stream",
     "text": [
      "avABC > avDEF rounds counted: 1. When avABC > avDEF:\n",
      "D > avEF rounds counted: 1\n",
      "7th signal close avABC rounds counted: 1\n",
      "FINISHED ROUND NUMBER: 1\n",
      "avABC > avDEF rounds counted: 2. When avABC > avDEF:\n",
      "D > avEF rounds counted: 2\n",
      "7th signal close avDEF rounds counted: 1\n",
      "FINISHED ROUND NUMBER: 2\n",
      "avDEF > avABC rounds counted: 1. When avDEF > avABC:\n",
      "avEF > D rounds counted: 1\n",
      "7th signal close avABC rounds counted: 1\n",
      "FINISHED ROUND NUMBER: 3\n",
      "avABC > avDEF rounds counted: 3. When avABC > avDEF:\n",
      "D > avEF rounds counted: 3\n",
      "7th signal close avABC rounds counted: 2\n",
      "FINISHED ROUND NUMBER: 4\n",
      "avDEF > avABC rounds counted: 2. When avDEF > avABC:\n",
      "D > avEF rounds counted: 1\n",
      "7th signal close avABC rounds counted: 2\n",
      "FINISHED ROUND NUMBER: 5\n",
      "avDEF > avABC rounds counted: 3. When avDEF > avABC:\n",
      "D > avEF rounds counted: 2\n",
      "7th signal close avABC rounds counted: 3\n",
      "FINISHED ROUND NUMBER: 6\n",
      "avDEF > avABC rounds counted: 4. When avDEF > avABC:\n",
      "D > avEF rounds counted: 3\n",
      "7th signal close avDEF rounds counted: 1\n",
      "FINISHED ROUND NUMBER: 7\n",
      "avABC > avDEF rounds counted: 4. When avABC > avDEF:\n",
      "avEF > D rounds counted: 1\n",
      "7th signal close avABC rounds counted: 3\n",
      "FINISHED ROUND NUMBER: 8\n",
      "avABC > avDEF rounds counted: 5. When avABC > avDEF:\n",
      "avEF > D rounds counted: 2\n",
      "7th signal close avDEF rounds counted: 2\n",
      "FINISHED ROUND NUMBER: 9\n",
      "avDEF > avABC rounds counted: 5. When avDEF > avABC:\n",
      "D > avEF rounds counted: 4\n",
      "7th signal close avDEF rounds counted: 2\n",
      "FINISHED ROUND NUMBER: 10\n"
     ]
    }
   ],
   "source": [
    "#run the function\n",
    "# when running: the finished rounds are printed including some counters on the conditions requiring exact\n",
    "#share of realization\n",
    "df = simulation(x_list, number_estimates)\n",
    "file_name = 'Simulations.xlsx'\n",
    "df.to_excel(file_name)"
   ]
  },
  {
   "cell_type": "code",
   "execution_count": 11,
   "metadata": {
    "pycharm": {
     "name": "#%%\n"
    }
   },
   "outputs": [
    {
     "data": {
      "text/plain": "   round    sender  estimate   mean  avABC-avDEF  avEF-D   avDE   avDF  \\\n0    1.0         A     617.0  652.0    65.666667   -44.0  586.0  576.0   \n1    1.0         B     755.0  652.0    65.666667   -44.0  586.0  576.0   \n2    1.0         C     546.0  652.0    65.666667   -44.0  586.0  576.0   \n3    1.0         D     603.0  652.0    65.666667   -44.0  586.0  576.0   \n4    1.0         E     569.0  652.0    65.666667   -44.0  586.0  576.0   \n5    1.0         F     549.0  652.0    65.666667   -44.0  586.0  576.0   \n6    1.0  signal_7     668.0  652.0    65.666667   -44.0  586.0  576.0   \n0    2.0         A     685.0  612.0    67.666667   -25.0  563.0  618.0   \n1    2.0         B     712.0  612.0    67.666667   -25.0  563.0  618.0   \n2    2.0         C     565.0  612.0    67.666667   -25.0  563.0  618.0   \n3    2.0         D     603.0  612.0    67.666667   -25.0  563.0  618.0   \n4    2.0         E     523.0  612.0    67.666667   -25.0  563.0  618.0   \n5    2.0         F     633.0  612.0    67.666667   -25.0  563.0  618.0   \n6    2.0  signal_7     532.0  612.0    67.666667   -25.0  563.0  618.0   \n0    3.0         A     232.0  327.0   -57.666667   -31.0  375.0  402.0   \n1    3.0         B     301.0  327.0   -57.666667   -31.0  375.0  402.0   \n2    3.0         C     444.0  327.0   -57.666667   -31.0  375.0  402.0   \n3    3.0         D     404.0  327.0   -57.666667   -31.0  375.0  402.0   \n4    3.0         E     346.0  327.0   -57.666667   -31.0  375.0  402.0   \n5    3.0         F     400.0  327.0   -57.666667   -31.0  375.0  402.0   \n6    3.0  signal_7     219.0  327.0   -57.666667   -31.0  375.0  402.0   \n0    4.0         A     112.0  120.0    58.000000  -108.0   90.0   88.0   \n1    4.0         B      47.0  120.0    58.000000  -108.0   90.0   88.0   \n2    4.0         C     228.0  120.0    58.000000  -108.0   90.0   88.0   \n3    4.0         D     143.0  120.0    58.000000  -108.0   90.0   88.0   \n4    4.0         E      37.0  120.0    58.000000  -108.0   90.0   88.0   \n5    4.0         F      33.0  120.0    58.000000  -108.0   90.0   88.0   \n6    4.0  signal_7     219.0  120.0    58.000000  -108.0   90.0   88.0   \n0    5.0         A      82.0  204.0   -81.000000   105.0  190.0  237.0   \n1    5.0         B      84.0  204.0   -81.000000   105.0  190.0  237.0   \n2    5.0         C     284.0  204.0   -81.000000   105.0  190.0  237.0   \n3    5.0         D     161.0  204.0   -81.000000   105.0  190.0  237.0   \n4    5.0         E     219.0  204.0   -81.000000   105.0  190.0  237.0   \n5    5.0         F     313.0  204.0   -81.000000   105.0  190.0  237.0   \n6    5.0  signal_7     111.0  204.0   -81.000000   105.0  190.0  237.0   \n0    6.0         A     454.0  545.0   -34.666667   110.0  586.0  530.0   \n1    6.0         B     586.0  545.0   -34.666667   110.0  586.0  530.0   \n2    6.0         C     585.0  545.0   -34.666667   110.0  586.0  530.0   \n3    6.0         D     503.0  545.0   -34.666667   110.0  586.0  530.0   \n4    6.0         E     669.0  545.0   -34.666667   110.0  586.0  530.0   \n5    6.0         F     557.0  545.0   -34.666667   110.0  586.0  530.0   \n6    6.0  signal_7     465.0  545.0   -34.666667   110.0  586.0  530.0   \n0    7.0         A     198.0  175.0   -55.333333   188.0  191.0  167.0   \n1    7.0         B     217.0  175.0   -55.333333   188.0  191.0  167.0   \n2    7.0         C      50.0  175.0   -55.333333   188.0  191.0  167.0   \n3    7.0         D      85.0  175.0   -55.333333   188.0  191.0  167.0   \n4    7.0         E     297.0  175.0   -55.333333   188.0  191.0  167.0   \n5    7.0         F     249.0  175.0   -55.333333   188.0  191.0  167.0   \n6    7.0  signal_7     229.0  175.0   -55.333333   188.0  191.0  167.0   \n0    8.0         A     122.0  136.0    84.333333    36.0   28.0   76.0   \n1    8.0         B      90.0  136.0    84.333333    36.0   28.0   76.0   \n2    8.0         C     215.0  136.0    84.333333    36.0   28.0   76.0   \n3    8.0         D      34.0  136.0    84.333333    36.0   28.0   76.0   \n4    8.0         E      22.0  136.0    84.333333    36.0   28.0   76.0   \n5    8.0         F     118.0  136.0    84.333333    36.0   28.0   76.0   \n6    8.0  signal_7     206.0  136.0    84.333333    36.0   28.0   76.0   \n0    9.0         A     355.0  417.0    47.000000    60.0  338.0  394.0   \n1    9.0         B     527.0  417.0    47.000000    60.0  338.0  394.0   \n2    9.0         C     387.0  417.0    47.000000    60.0  338.0  394.0   \n3    9.0         D     336.0  417.0    47.000000    60.0  338.0  394.0   \n4    9.0         E     340.0  417.0    47.000000    60.0  338.0  394.0   \n5    9.0         F     452.0  417.0    47.000000    60.0  338.0  394.0   \n6    9.0  signal_7     377.0  417.0    47.000000    60.0  338.0  394.0   \n0   10.0         A     851.0  890.0  -141.333333   131.0  944.0  943.0   \n1   10.0         B     834.0  890.0  -141.333333   131.0  944.0  943.0   \n2   10.0         C     787.0  890.0  -141.333333   131.0  944.0  943.0   \n3   10.0         D     878.0  890.0  -141.333333   131.0  944.0  943.0   \n4   10.0         E    1010.0  890.0  -141.333333   131.0  944.0  943.0   \n5   10.0         F    1008.0  890.0  -141.333333   131.0  944.0  943.0   \n6   10.0  signal_7     984.0  890.0  -141.333333   131.0  944.0  943.0   \n\n   highest-second_lowest_DEF  highest-lowest_DEF  \n0                       62.6               120.6  \n1                       62.6               120.6  \n2                       62.6               120.6  \n3                       62.6               120.6  \n4                       62.6               120.6  \n5                       62.6               120.6  \n6                       62.6               120.6  \n0                       62.6               120.6  \n1                       62.6               120.6  \n2                       62.6               120.6  \n3                       62.6               120.6  \n4                       62.6               120.6  \n5                       62.6               120.6  \n6                       62.6               120.6  \n0                       62.6               120.6  \n1                       62.6               120.6  \n2                       62.6               120.6  \n3                       62.6               120.6  \n4                       62.6               120.6  \n5                       62.6               120.6  \n6                       62.6               120.6  \n0                       62.6               120.6  \n1                       62.6               120.6  \n2                       62.6               120.6  \n3                       62.6               120.6  \n4                       62.6               120.6  \n5                       62.6               120.6  \n6                       62.6               120.6  \n0                       62.6               120.6  \n1                       62.6               120.6  \n2                       62.6               120.6  \n3                       62.6               120.6  \n4                       62.6               120.6  \n5                       62.6               120.6  \n6                       62.6               120.6  \n0                       62.6               120.6  \n1                       62.6               120.6  \n2                       62.6               120.6  \n3                       62.6               120.6  \n4                       62.6               120.6  \n5                       62.6               120.6  \n6                       62.6               120.6  \n0                       62.6               120.6  \n1                       62.6               120.6  \n2                       62.6               120.6  \n3                       62.6               120.6  \n4                       62.6               120.6  \n5                       62.6               120.6  \n6                       62.6               120.6  \n0                       62.6               120.6  \n1                       62.6               120.6  \n2                       62.6               120.6  \n3                       62.6               120.6  \n4                       62.6               120.6  \n5                       62.6               120.6  \n6                       62.6               120.6  \n0                       62.6               120.6  \n1                       62.6               120.6  \n2                       62.6               120.6  \n3                       62.6               120.6  \n4                       62.6               120.6  \n5                       62.6               120.6  \n6                       62.6               120.6  \n0                       62.6               120.6  \n1                       62.6               120.6  \n2                       62.6               120.6  \n3                       62.6               120.6  \n4                       62.6               120.6  \n5                       62.6               120.6  \n6                       62.6               120.6  ",
      "text/html": "<div>\n<style scoped>\n    .dataframe tbody tr th:only-of-type {\n        vertical-align: middle;\n    }\n\n    .dataframe tbody tr th {\n        vertical-align: top;\n    }\n\n    .dataframe thead th {\n        text-align: right;\n    }\n</style>\n<table border=\"1\" class=\"dataframe\">\n  <thead>\n    <tr style=\"text-align: right;\">\n      <th></th>\n      <th>round</th>\n      <th>sender</th>\n      <th>estimate</th>\n      <th>mean</th>\n      <th>avABC-avDEF</th>\n      <th>avEF-D</th>\n      <th>avDE</th>\n      <th>avDF</th>\n      <th>highest-second_lowest_DEF</th>\n      <th>highest-lowest_DEF</th>\n    </tr>\n  </thead>\n  <tbody>\n    <tr>\n      <th>0</th>\n      <td>1.0</td>\n      <td>A</td>\n      <td>617.0</td>\n      <td>652.0</td>\n      <td>65.666667</td>\n      <td>-44.0</td>\n      <td>586.0</td>\n      <td>576.0</td>\n      <td>62.6</td>\n      <td>120.6</td>\n    </tr>\n    <tr>\n      <th>1</th>\n      <td>1.0</td>\n      <td>B</td>\n      <td>755.0</td>\n      <td>652.0</td>\n      <td>65.666667</td>\n      <td>-44.0</td>\n      <td>586.0</td>\n      <td>576.0</td>\n      <td>62.6</td>\n      <td>120.6</td>\n    </tr>\n    <tr>\n      <th>2</th>\n      <td>1.0</td>\n      <td>C</td>\n      <td>546.0</td>\n      <td>652.0</td>\n      <td>65.666667</td>\n      <td>-44.0</td>\n      <td>586.0</td>\n      <td>576.0</td>\n      <td>62.6</td>\n      <td>120.6</td>\n    </tr>\n    <tr>\n      <th>3</th>\n      <td>1.0</td>\n      <td>D</td>\n      <td>603.0</td>\n      <td>652.0</td>\n      <td>65.666667</td>\n      <td>-44.0</td>\n      <td>586.0</td>\n      <td>576.0</td>\n      <td>62.6</td>\n      <td>120.6</td>\n    </tr>\n    <tr>\n      <th>4</th>\n      <td>1.0</td>\n      <td>E</td>\n      <td>569.0</td>\n      <td>652.0</td>\n      <td>65.666667</td>\n      <td>-44.0</td>\n      <td>586.0</td>\n      <td>576.0</td>\n      <td>62.6</td>\n      <td>120.6</td>\n    </tr>\n    <tr>\n      <th>5</th>\n      <td>1.0</td>\n      <td>F</td>\n      <td>549.0</td>\n      <td>652.0</td>\n      <td>65.666667</td>\n      <td>-44.0</td>\n      <td>586.0</td>\n      <td>576.0</td>\n      <td>62.6</td>\n      <td>120.6</td>\n    </tr>\n    <tr>\n      <th>6</th>\n      <td>1.0</td>\n      <td>signal_7</td>\n      <td>668.0</td>\n      <td>652.0</td>\n      <td>65.666667</td>\n      <td>-44.0</td>\n      <td>586.0</td>\n      <td>576.0</td>\n      <td>62.6</td>\n      <td>120.6</td>\n    </tr>\n    <tr>\n      <th>0</th>\n      <td>2.0</td>\n      <td>A</td>\n      <td>685.0</td>\n      <td>612.0</td>\n      <td>67.666667</td>\n      <td>-25.0</td>\n      <td>563.0</td>\n      <td>618.0</td>\n      <td>62.6</td>\n      <td>120.6</td>\n    </tr>\n    <tr>\n      <th>1</th>\n      <td>2.0</td>\n      <td>B</td>\n      <td>712.0</td>\n      <td>612.0</td>\n      <td>67.666667</td>\n      <td>-25.0</td>\n      <td>563.0</td>\n      <td>618.0</td>\n      <td>62.6</td>\n      <td>120.6</td>\n    </tr>\n    <tr>\n      <th>2</th>\n      <td>2.0</td>\n      <td>C</td>\n      <td>565.0</td>\n      <td>612.0</td>\n      <td>67.666667</td>\n      <td>-25.0</td>\n      <td>563.0</td>\n      <td>618.0</td>\n      <td>62.6</td>\n      <td>120.6</td>\n    </tr>\n    <tr>\n      <th>3</th>\n      <td>2.0</td>\n      <td>D</td>\n      <td>603.0</td>\n      <td>612.0</td>\n      <td>67.666667</td>\n      <td>-25.0</td>\n      <td>563.0</td>\n      <td>618.0</td>\n      <td>62.6</td>\n      <td>120.6</td>\n    </tr>\n    <tr>\n      <th>4</th>\n      <td>2.0</td>\n      <td>E</td>\n      <td>523.0</td>\n      <td>612.0</td>\n      <td>67.666667</td>\n      <td>-25.0</td>\n      <td>563.0</td>\n      <td>618.0</td>\n      <td>62.6</td>\n      <td>120.6</td>\n    </tr>\n    <tr>\n      <th>5</th>\n      <td>2.0</td>\n      <td>F</td>\n      <td>633.0</td>\n      <td>612.0</td>\n      <td>67.666667</td>\n      <td>-25.0</td>\n      <td>563.0</td>\n      <td>618.0</td>\n      <td>62.6</td>\n      <td>120.6</td>\n    </tr>\n    <tr>\n      <th>6</th>\n      <td>2.0</td>\n      <td>signal_7</td>\n      <td>532.0</td>\n      <td>612.0</td>\n      <td>67.666667</td>\n      <td>-25.0</td>\n      <td>563.0</td>\n      <td>618.0</td>\n      <td>62.6</td>\n      <td>120.6</td>\n    </tr>\n    <tr>\n      <th>0</th>\n      <td>3.0</td>\n      <td>A</td>\n      <td>232.0</td>\n      <td>327.0</td>\n      <td>-57.666667</td>\n      <td>-31.0</td>\n      <td>375.0</td>\n      <td>402.0</td>\n      <td>62.6</td>\n      <td>120.6</td>\n    </tr>\n    <tr>\n      <th>1</th>\n      <td>3.0</td>\n      <td>B</td>\n      <td>301.0</td>\n      <td>327.0</td>\n      <td>-57.666667</td>\n      <td>-31.0</td>\n      <td>375.0</td>\n      <td>402.0</td>\n      <td>62.6</td>\n      <td>120.6</td>\n    </tr>\n    <tr>\n      <th>2</th>\n      <td>3.0</td>\n      <td>C</td>\n      <td>444.0</td>\n      <td>327.0</td>\n      <td>-57.666667</td>\n      <td>-31.0</td>\n      <td>375.0</td>\n      <td>402.0</td>\n      <td>62.6</td>\n      <td>120.6</td>\n    </tr>\n    <tr>\n      <th>3</th>\n      <td>3.0</td>\n      <td>D</td>\n      <td>404.0</td>\n      <td>327.0</td>\n      <td>-57.666667</td>\n      <td>-31.0</td>\n      <td>375.0</td>\n      <td>402.0</td>\n      <td>62.6</td>\n      <td>120.6</td>\n    </tr>\n    <tr>\n      <th>4</th>\n      <td>3.0</td>\n      <td>E</td>\n      <td>346.0</td>\n      <td>327.0</td>\n      <td>-57.666667</td>\n      <td>-31.0</td>\n      <td>375.0</td>\n      <td>402.0</td>\n      <td>62.6</td>\n      <td>120.6</td>\n    </tr>\n    <tr>\n      <th>5</th>\n      <td>3.0</td>\n      <td>F</td>\n      <td>400.0</td>\n      <td>327.0</td>\n      <td>-57.666667</td>\n      <td>-31.0</td>\n      <td>375.0</td>\n      <td>402.0</td>\n      <td>62.6</td>\n      <td>120.6</td>\n    </tr>\n    <tr>\n      <th>6</th>\n      <td>3.0</td>\n      <td>signal_7</td>\n      <td>219.0</td>\n      <td>327.0</td>\n      <td>-57.666667</td>\n      <td>-31.0</td>\n      <td>375.0</td>\n      <td>402.0</td>\n      <td>62.6</td>\n      <td>120.6</td>\n    </tr>\n    <tr>\n      <th>0</th>\n      <td>4.0</td>\n      <td>A</td>\n      <td>112.0</td>\n      <td>120.0</td>\n      <td>58.000000</td>\n      <td>-108.0</td>\n      <td>90.0</td>\n      <td>88.0</td>\n      <td>62.6</td>\n      <td>120.6</td>\n    </tr>\n    <tr>\n      <th>1</th>\n      <td>4.0</td>\n      <td>B</td>\n      <td>47.0</td>\n      <td>120.0</td>\n      <td>58.000000</td>\n      <td>-108.0</td>\n      <td>90.0</td>\n      <td>88.0</td>\n      <td>62.6</td>\n      <td>120.6</td>\n    </tr>\n    <tr>\n      <th>2</th>\n      <td>4.0</td>\n      <td>C</td>\n      <td>228.0</td>\n      <td>120.0</td>\n      <td>58.000000</td>\n      <td>-108.0</td>\n      <td>90.0</td>\n      <td>88.0</td>\n      <td>62.6</td>\n      <td>120.6</td>\n    </tr>\n    <tr>\n      <th>3</th>\n      <td>4.0</td>\n      <td>D</td>\n      <td>143.0</td>\n      <td>120.0</td>\n      <td>58.000000</td>\n      <td>-108.0</td>\n      <td>90.0</td>\n      <td>88.0</td>\n      <td>62.6</td>\n      <td>120.6</td>\n    </tr>\n    <tr>\n      <th>4</th>\n      <td>4.0</td>\n      <td>E</td>\n      <td>37.0</td>\n      <td>120.0</td>\n      <td>58.000000</td>\n      <td>-108.0</td>\n      <td>90.0</td>\n      <td>88.0</td>\n      <td>62.6</td>\n      <td>120.6</td>\n    </tr>\n    <tr>\n      <th>5</th>\n      <td>4.0</td>\n      <td>F</td>\n      <td>33.0</td>\n      <td>120.0</td>\n      <td>58.000000</td>\n      <td>-108.0</td>\n      <td>90.0</td>\n      <td>88.0</td>\n      <td>62.6</td>\n      <td>120.6</td>\n    </tr>\n    <tr>\n      <th>6</th>\n      <td>4.0</td>\n      <td>signal_7</td>\n      <td>219.0</td>\n      <td>120.0</td>\n      <td>58.000000</td>\n      <td>-108.0</td>\n      <td>90.0</td>\n      <td>88.0</td>\n      <td>62.6</td>\n      <td>120.6</td>\n    </tr>\n    <tr>\n      <th>0</th>\n      <td>5.0</td>\n      <td>A</td>\n      <td>82.0</td>\n      <td>204.0</td>\n      <td>-81.000000</td>\n      <td>105.0</td>\n      <td>190.0</td>\n      <td>237.0</td>\n      <td>62.6</td>\n      <td>120.6</td>\n    </tr>\n    <tr>\n      <th>1</th>\n      <td>5.0</td>\n      <td>B</td>\n      <td>84.0</td>\n      <td>204.0</td>\n      <td>-81.000000</td>\n      <td>105.0</td>\n      <td>190.0</td>\n      <td>237.0</td>\n      <td>62.6</td>\n      <td>120.6</td>\n    </tr>\n    <tr>\n      <th>2</th>\n      <td>5.0</td>\n      <td>C</td>\n      <td>284.0</td>\n      <td>204.0</td>\n      <td>-81.000000</td>\n      <td>105.0</td>\n      <td>190.0</td>\n      <td>237.0</td>\n      <td>62.6</td>\n      <td>120.6</td>\n    </tr>\n    <tr>\n      <th>3</th>\n      <td>5.0</td>\n      <td>D</td>\n      <td>161.0</td>\n      <td>204.0</td>\n      <td>-81.000000</td>\n      <td>105.0</td>\n      <td>190.0</td>\n      <td>237.0</td>\n      <td>62.6</td>\n      <td>120.6</td>\n    </tr>\n    <tr>\n      <th>4</th>\n      <td>5.0</td>\n      <td>E</td>\n      <td>219.0</td>\n      <td>204.0</td>\n      <td>-81.000000</td>\n      <td>105.0</td>\n      <td>190.0</td>\n      <td>237.0</td>\n      <td>62.6</td>\n      <td>120.6</td>\n    </tr>\n    <tr>\n      <th>5</th>\n      <td>5.0</td>\n      <td>F</td>\n      <td>313.0</td>\n      <td>204.0</td>\n      <td>-81.000000</td>\n      <td>105.0</td>\n      <td>190.0</td>\n      <td>237.0</td>\n      <td>62.6</td>\n      <td>120.6</td>\n    </tr>\n    <tr>\n      <th>6</th>\n      <td>5.0</td>\n      <td>signal_7</td>\n      <td>111.0</td>\n      <td>204.0</td>\n      <td>-81.000000</td>\n      <td>105.0</td>\n      <td>190.0</td>\n      <td>237.0</td>\n      <td>62.6</td>\n      <td>120.6</td>\n    </tr>\n    <tr>\n      <th>0</th>\n      <td>6.0</td>\n      <td>A</td>\n      <td>454.0</td>\n      <td>545.0</td>\n      <td>-34.666667</td>\n      <td>110.0</td>\n      <td>586.0</td>\n      <td>530.0</td>\n      <td>62.6</td>\n      <td>120.6</td>\n    </tr>\n    <tr>\n      <th>1</th>\n      <td>6.0</td>\n      <td>B</td>\n      <td>586.0</td>\n      <td>545.0</td>\n      <td>-34.666667</td>\n      <td>110.0</td>\n      <td>586.0</td>\n      <td>530.0</td>\n      <td>62.6</td>\n      <td>120.6</td>\n    </tr>\n    <tr>\n      <th>2</th>\n      <td>6.0</td>\n      <td>C</td>\n      <td>585.0</td>\n      <td>545.0</td>\n      <td>-34.666667</td>\n      <td>110.0</td>\n      <td>586.0</td>\n      <td>530.0</td>\n      <td>62.6</td>\n      <td>120.6</td>\n    </tr>\n    <tr>\n      <th>3</th>\n      <td>6.0</td>\n      <td>D</td>\n      <td>503.0</td>\n      <td>545.0</td>\n      <td>-34.666667</td>\n      <td>110.0</td>\n      <td>586.0</td>\n      <td>530.0</td>\n      <td>62.6</td>\n      <td>120.6</td>\n    </tr>\n    <tr>\n      <th>4</th>\n      <td>6.0</td>\n      <td>E</td>\n      <td>669.0</td>\n      <td>545.0</td>\n      <td>-34.666667</td>\n      <td>110.0</td>\n      <td>586.0</td>\n      <td>530.0</td>\n      <td>62.6</td>\n      <td>120.6</td>\n    </tr>\n    <tr>\n      <th>5</th>\n      <td>6.0</td>\n      <td>F</td>\n      <td>557.0</td>\n      <td>545.0</td>\n      <td>-34.666667</td>\n      <td>110.0</td>\n      <td>586.0</td>\n      <td>530.0</td>\n      <td>62.6</td>\n      <td>120.6</td>\n    </tr>\n    <tr>\n      <th>6</th>\n      <td>6.0</td>\n      <td>signal_7</td>\n      <td>465.0</td>\n      <td>545.0</td>\n      <td>-34.666667</td>\n      <td>110.0</td>\n      <td>586.0</td>\n      <td>530.0</td>\n      <td>62.6</td>\n      <td>120.6</td>\n    </tr>\n    <tr>\n      <th>0</th>\n      <td>7.0</td>\n      <td>A</td>\n      <td>198.0</td>\n      <td>175.0</td>\n      <td>-55.333333</td>\n      <td>188.0</td>\n      <td>191.0</td>\n      <td>167.0</td>\n      <td>62.6</td>\n      <td>120.6</td>\n    </tr>\n    <tr>\n      <th>1</th>\n      <td>7.0</td>\n      <td>B</td>\n      <td>217.0</td>\n      <td>175.0</td>\n      <td>-55.333333</td>\n      <td>188.0</td>\n      <td>191.0</td>\n      <td>167.0</td>\n      <td>62.6</td>\n      <td>120.6</td>\n    </tr>\n    <tr>\n      <th>2</th>\n      <td>7.0</td>\n      <td>C</td>\n      <td>50.0</td>\n      <td>175.0</td>\n      <td>-55.333333</td>\n      <td>188.0</td>\n      <td>191.0</td>\n      <td>167.0</td>\n      <td>62.6</td>\n      <td>120.6</td>\n    </tr>\n    <tr>\n      <th>3</th>\n      <td>7.0</td>\n      <td>D</td>\n      <td>85.0</td>\n      <td>175.0</td>\n      <td>-55.333333</td>\n      <td>188.0</td>\n      <td>191.0</td>\n      <td>167.0</td>\n      <td>62.6</td>\n      <td>120.6</td>\n    </tr>\n    <tr>\n      <th>4</th>\n      <td>7.0</td>\n      <td>E</td>\n      <td>297.0</td>\n      <td>175.0</td>\n      <td>-55.333333</td>\n      <td>188.0</td>\n      <td>191.0</td>\n      <td>167.0</td>\n      <td>62.6</td>\n      <td>120.6</td>\n    </tr>\n    <tr>\n      <th>5</th>\n      <td>7.0</td>\n      <td>F</td>\n      <td>249.0</td>\n      <td>175.0</td>\n      <td>-55.333333</td>\n      <td>188.0</td>\n      <td>191.0</td>\n      <td>167.0</td>\n      <td>62.6</td>\n      <td>120.6</td>\n    </tr>\n    <tr>\n      <th>6</th>\n      <td>7.0</td>\n      <td>signal_7</td>\n      <td>229.0</td>\n      <td>175.0</td>\n      <td>-55.333333</td>\n      <td>188.0</td>\n      <td>191.0</td>\n      <td>167.0</td>\n      <td>62.6</td>\n      <td>120.6</td>\n    </tr>\n    <tr>\n      <th>0</th>\n      <td>8.0</td>\n      <td>A</td>\n      <td>122.0</td>\n      <td>136.0</td>\n      <td>84.333333</td>\n      <td>36.0</td>\n      <td>28.0</td>\n      <td>76.0</td>\n      <td>62.6</td>\n      <td>120.6</td>\n    </tr>\n    <tr>\n      <th>1</th>\n      <td>8.0</td>\n      <td>B</td>\n      <td>90.0</td>\n      <td>136.0</td>\n      <td>84.333333</td>\n      <td>36.0</td>\n      <td>28.0</td>\n      <td>76.0</td>\n      <td>62.6</td>\n      <td>120.6</td>\n    </tr>\n    <tr>\n      <th>2</th>\n      <td>8.0</td>\n      <td>C</td>\n      <td>215.0</td>\n      <td>136.0</td>\n      <td>84.333333</td>\n      <td>36.0</td>\n      <td>28.0</td>\n      <td>76.0</td>\n      <td>62.6</td>\n      <td>120.6</td>\n    </tr>\n    <tr>\n      <th>3</th>\n      <td>8.0</td>\n      <td>D</td>\n      <td>34.0</td>\n      <td>136.0</td>\n      <td>84.333333</td>\n      <td>36.0</td>\n      <td>28.0</td>\n      <td>76.0</td>\n      <td>62.6</td>\n      <td>120.6</td>\n    </tr>\n    <tr>\n      <th>4</th>\n      <td>8.0</td>\n      <td>E</td>\n      <td>22.0</td>\n      <td>136.0</td>\n      <td>84.333333</td>\n      <td>36.0</td>\n      <td>28.0</td>\n      <td>76.0</td>\n      <td>62.6</td>\n      <td>120.6</td>\n    </tr>\n    <tr>\n      <th>5</th>\n      <td>8.0</td>\n      <td>F</td>\n      <td>118.0</td>\n      <td>136.0</td>\n      <td>84.333333</td>\n      <td>36.0</td>\n      <td>28.0</td>\n      <td>76.0</td>\n      <td>62.6</td>\n      <td>120.6</td>\n    </tr>\n    <tr>\n      <th>6</th>\n      <td>8.0</td>\n      <td>signal_7</td>\n      <td>206.0</td>\n      <td>136.0</td>\n      <td>84.333333</td>\n      <td>36.0</td>\n      <td>28.0</td>\n      <td>76.0</td>\n      <td>62.6</td>\n      <td>120.6</td>\n    </tr>\n    <tr>\n      <th>0</th>\n      <td>9.0</td>\n      <td>A</td>\n      <td>355.0</td>\n      <td>417.0</td>\n      <td>47.000000</td>\n      <td>60.0</td>\n      <td>338.0</td>\n      <td>394.0</td>\n      <td>62.6</td>\n      <td>120.6</td>\n    </tr>\n    <tr>\n      <th>1</th>\n      <td>9.0</td>\n      <td>B</td>\n      <td>527.0</td>\n      <td>417.0</td>\n      <td>47.000000</td>\n      <td>60.0</td>\n      <td>338.0</td>\n      <td>394.0</td>\n      <td>62.6</td>\n      <td>120.6</td>\n    </tr>\n    <tr>\n      <th>2</th>\n      <td>9.0</td>\n      <td>C</td>\n      <td>387.0</td>\n      <td>417.0</td>\n      <td>47.000000</td>\n      <td>60.0</td>\n      <td>338.0</td>\n      <td>394.0</td>\n      <td>62.6</td>\n      <td>120.6</td>\n    </tr>\n    <tr>\n      <th>3</th>\n      <td>9.0</td>\n      <td>D</td>\n      <td>336.0</td>\n      <td>417.0</td>\n      <td>47.000000</td>\n      <td>60.0</td>\n      <td>338.0</td>\n      <td>394.0</td>\n      <td>62.6</td>\n      <td>120.6</td>\n    </tr>\n    <tr>\n      <th>4</th>\n      <td>9.0</td>\n      <td>E</td>\n      <td>340.0</td>\n      <td>417.0</td>\n      <td>47.000000</td>\n      <td>60.0</td>\n      <td>338.0</td>\n      <td>394.0</td>\n      <td>62.6</td>\n      <td>120.6</td>\n    </tr>\n    <tr>\n      <th>5</th>\n      <td>9.0</td>\n      <td>F</td>\n      <td>452.0</td>\n      <td>417.0</td>\n      <td>47.000000</td>\n      <td>60.0</td>\n      <td>338.0</td>\n      <td>394.0</td>\n      <td>62.6</td>\n      <td>120.6</td>\n    </tr>\n    <tr>\n      <th>6</th>\n      <td>9.0</td>\n      <td>signal_7</td>\n      <td>377.0</td>\n      <td>417.0</td>\n      <td>47.000000</td>\n      <td>60.0</td>\n      <td>338.0</td>\n      <td>394.0</td>\n      <td>62.6</td>\n      <td>120.6</td>\n    </tr>\n    <tr>\n      <th>0</th>\n      <td>10.0</td>\n      <td>A</td>\n      <td>851.0</td>\n      <td>890.0</td>\n      <td>-141.333333</td>\n      <td>131.0</td>\n      <td>944.0</td>\n      <td>943.0</td>\n      <td>62.6</td>\n      <td>120.6</td>\n    </tr>\n    <tr>\n      <th>1</th>\n      <td>10.0</td>\n      <td>B</td>\n      <td>834.0</td>\n      <td>890.0</td>\n      <td>-141.333333</td>\n      <td>131.0</td>\n      <td>944.0</td>\n      <td>943.0</td>\n      <td>62.6</td>\n      <td>120.6</td>\n    </tr>\n    <tr>\n      <th>2</th>\n      <td>10.0</td>\n      <td>C</td>\n      <td>787.0</td>\n      <td>890.0</td>\n      <td>-141.333333</td>\n      <td>131.0</td>\n      <td>944.0</td>\n      <td>943.0</td>\n      <td>62.6</td>\n      <td>120.6</td>\n    </tr>\n    <tr>\n      <th>3</th>\n      <td>10.0</td>\n      <td>D</td>\n      <td>878.0</td>\n      <td>890.0</td>\n      <td>-141.333333</td>\n      <td>131.0</td>\n      <td>944.0</td>\n      <td>943.0</td>\n      <td>62.6</td>\n      <td>120.6</td>\n    </tr>\n    <tr>\n      <th>4</th>\n      <td>10.0</td>\n      <td>E</td>\n      <td>1010.0</td>\n      <td>890.0</td>\n      <td>-141.333333</td>\n      <td>131.0</td>\n      <td>944.0</td>\n      <td>943.0</td>\n      <td>62.6</td>\n      <td>120.6</td>\n    </tr>\n    <tr>\n      <th>5</th>\n      <td>10.0</td>\n      <td>F</td>\n      <td>1008.0</td>\n      <td>890.0</td>\n      <td>-141.333333</td>\n      <td>131.0</td>\n      <td>944.0</td>\n      <td>943.0</td>\n      <td>62.6</td>\n      <td>120.6</td>\n    </tr>\n    <tr>\n      <th>6</th>\n      <td>10.0</td>\n      <td>signal_7</td>\n      <td>984.0</td>\n      <td>890.0</td>\n      <td>-141.333333</td>\n      <td>131.0</td>\n      <td>944.0</td>\n      <td>943.0</td>\n      <td>62.6</td>\n      <td>120.6</td>\n    </tr>\n  </tbody>\n</table>\n</div>"
     },
     "execution_count": 11,
     "metadata": {},
     "output_type": "execute_result"
    }
   ],
   "source": [
    "df\n"
   ]
  },
  {
   "cell_type": "markdown",
   "metadata": {
    "pycharm": {
     "name": "#%% md\n"
    }
   },
   "source": [
    "The rounds are defines by *mean*.\n",
    "\n",
    "Some of the conditions can be verified by the columns in the table.\n",
    " - Condition 1: *avABC-avDEF* - difference between the averages for one data generation round;\n",
    "    (Also check output above: \"avDEF > avABC rounds counted: ... \"); Condition met iff output says \"... : 5\"\n",
    " - Condition 2.1: *avEF-D* - difference between the average and the signal for one data generation round;\n",
    "    Condition met iff all values for *|avEF-D| > 6* and output says \"... : 2/3\"\n",
    " - Condition 2.2: *avDE* and *avDF* are integers\n",
    " - Condition 3: *highest-second_lowest_DEF* should be bigger than 3 (this was additionally adjusted)\n",
    " - Condition 4: (Only applies for CB) Check output \"7th signal close avDEF/avABC rounds counted: ...\" Both should add up to 5"
   ]
  }
 ],
 "metadata": {
  "interpreter": {
   "hash": "beb3376e9ec78c85c8b47e0673459935c366a85a00dd683d2b2c8473fb6af68b"
  },
  "kernelspec": {
   "display_name": "Python 3.7.4 ('base')",
   "language": "python",
   "name": "python3"
  },
  "language_info": {
   "codemirror_mode": {
    "name": "ipython",
    "version": 3
   },
   "file_extension": ".py",
   "mimetype": "text/x-python",
   "name": "python",
   "nbconvert_exporter": "python",
   "pygments_lexer": "ipython3",
   "version": "3.7.4"
  },
  "orig_nbformat": 4
 },
 "nbformat": 4,
 "nbformat_minor": 2
}